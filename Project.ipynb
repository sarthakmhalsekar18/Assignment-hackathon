{
  "nbformat": 4,
  "nbformat_minor": 0,
  "metadata": {
    "colab": {
      "provenance": [],
      "authorship_tag": "ABX9TyN7Iw2fXMifmrSk6H0cQTJH",
      "include_colab_link": true
    },
    "kernelspec": {
      "name": "python3",
      "display_name": "Python 3"
    },
    "language_info": {
      "name": "python"
    }
  },
  "cells": [
    {
      "cell_type": "markdown",
      "metadata": {
        "id": "view-in-github",
        "colab_type": "text"
      },
      "source": [
        "<a href=\"https://colab.research.google.com/github/sarthakmhalsekar18/Assignment-hackathon/blob/main/Project.ipynb\" target=\"_parent\"><img src=\"https://colab.research.google.com/assets/colab-badge.svg\" alt=\"Open In Colab\"/></a>"
      ]
    },
    {
      "cell_type": "markdown",
      "source": [
        "Mount Google Drive"
      ],
      "metadata": {
        "id": "nRZ9WJQbi4Ia"
      }
    },
    {
      "cell_type": "code",
      "source": [
        "from google.colab import drive\n",
        "import os\n",
        "if not os.path.exists('/content/drive'):\n",
        "  drive.mount('/content/drive')\n",
        "else:\n",
        "  print(\"Google Drive is already mounted at /content/drive\")"
      ],
      "metadata": {
        "colab": {
          "base_uri": "https://localhost:8080/"
        },
        "id": "lKY3-H5GkUFQ",
        "outputId": "4b7670b4-981a-4d10-cb05-151e17c31697"
      },
      "execution_count": 3,
      "outputs": [
        {
          "output_type": "stream",
          "name": "stdout",
          "text": [
            "Google Drive is already mounted at /content/drive\n"
          ]
        }
      ]
    },
    {
      "cell_type": "markdown",
      "source": [
        "Import Libraries"
      ],
      "metadata": {
        "id": "iLoltuG2rHI2"
      }
    },
    {
      "cell_type": "code",
      "source": [
        "import os\n",
        "import numpy as np\n",
        "import pandas as pd\n",
        "import matplotlib.pyplot as plt\n",
        "from sklearn.model_selection import train_test_split\n",
        "import tensorflow as tf\n",
        "from tensorflow.keras.models import Sequential\n",
        "from tensorflow.keras.layers import Conv2D, MaxPooling2D, BatchNormalization, Flatten, Dense\n",
        "from tensorflow.keras.optimizers import Adam\n",
        "from tensorflow.keras.preprocessing.image import ImageDataGenerator"
      ],
      "metadata": {
        "id": "wFrFSB3jk0Gw"
      },
      "execution_count": 4,
      "outputs": []
    },
    {
      "cell_type": "markdown",
      "source": [
        "Federated Learning Setup"
      ],
      "metadata": {
        "id": "_3dTTc1XjFj7"
      }
    },
    {
      "cell_type": "code",
      "source": [
        "IMG_DIM=48\n",
        "CLASSES=['angry','disgust','fear','happy','sad','surprise']\n",
        "NUM_CLASSES=len(CLASSES)\n",
        "DATA_PATH='/content/drive/MyDrive/Datasets/sarthak dataset'"
      ],
      "metadata": {
        "id": "IF9DNUDUlRn2"
      },
      "execution_count": 5,
      "outputs": []
    },
    {
      "cell_type": "code",
      "source": [
        "NUM_CLIENTS=5\n",
        "CLIENT_EPOCHS=5\n",
        "NUM_ROUNDS=5\n",
        "BATCH_SIZE=32"
      ],
      "metadata": {
        "id": "-oJxQFhgpfGc"
      },
      "execution_count": 16,
      "outputs": []
    },
    {
      "cell_type": "markdown",
      "source": [
        "Load and Preprocess Dataset"
      ],
      "metadata": {
        "id": "a0Wl4jGojtMQ"
      }
    },
    {
      "cell_type": "code",
      "source": [
        "df=pd.concat([pd.DataFrame({\n",
        "    'filename':[os.path.join(DATA_PATH,'train',class_name,f)\n",
        "                for f in os.listdir(os.path.join(DATA_PATH,'train',class_name))\n",
        "                if f.endswith(('.jpg','.png'))],\n",
        "    'class':class_name\n",
        "})for class_name in CLASSES])\n",
        "print(df.head(2))"
      ],
      "metadata": {
        "colab": {
          "base_uri": "https://localhost:8080/"
        },
        "id": "UL3wspS5qZqm",
        "outputId": "d08fadfb-4494-4d96-979a-7d9d093eee95"
      },
      "execution_count": 7,
      "outputs": [
        {
          "output_type": "stream",
          "name": "stdout",
          "text": [
            "                                            filename  class\n",
            "0  /content/drive/MyDrive/Datasets/sarthak datase...  angry\n",
            "1  /content/drive/MyDrive/Datasets/sarthak datase...  angry\n"
          ]
        }
      ]
    },
    {
      "cell_type": "code",
      "source": [
        "df_train,df_val=train_test_split(df,test_size=0.3,random_state=42)"
      ],
      "metadata": {
        "id": "JfCu7vJarekp"
      },
      "execution_count": 8,
      "outputs": []
    },
    {
      "cell_type": "code",
      "source": [
        "print(\"---Dataset Summary---\")\n",
        "print(f\"Total images:{len(df)}\")\n",
        "print(f\"Training images(70%):{len(df_train)}\")\n",
        "print(f\"Validation images30%):{len(df_val)}\")"
      ],
      "metadata": {
        "colab": {
          "base_uri": "https://localhost:8080/"
        },
        "id": "sYBmhPhBrfy-",
        "outputId": "7b280159-f2c4-4319-8c2d-e2a05a411029"
      },
      "execution_count": 9,
      "outputs": [
        {
          "output_type": "stream",
          "name": "stdout",
          "text": [
            "---Dataset Summary---\n",
            "Total images:23754\n",
            "Training images(70%):16627\n",
            "Validation images30%):7127\n"
          ]
        }
      ]
    },
    {
      "cell_type": "markdown",
      "source": [
        " Distribute Data to Clients"
      ],
      "metadata": {
        "id": "SKro31B1jx1B"
      }
    },
    {
      "cell_type": "code",
      "source": [
        "client_dfs = []\n",
        "remaining_df = df_train.copy()\n",
        "\n",
        "for i in range(NUM_CLIENTS):\n",
        "    client_share = len(df_train) // NUM_CLIENTS\n",
        "    if i == NUM_CLIENTS - 1:\n",
        "        client_df = remaining_df.copy()\n",
        "    else:\n",
        "        client_df, remaining_df = train_test_split(\n",
        "            remaining_df,\n",
        "            train_size=client_share,\n",
        "            stratify=remaining_df['class'],\n",
        "            random_state=42\n",
        "        )\n",
        "    client_dfs.append(client_df)\n",
        "    print(f\"\\nClient {i} received {len(client_df)} images:\")\n",
        "    print(client_df['class'].value_counts())"
      ],
      "metadata": {
        "id": "7qTOXNWabsdW",
        "outputId": "59612fcd-6841-4a9b-c697-fa3644d87fe5",
        "colab": {
          "base_uri": "https://localhost:8080/"
        }
      },
      "execution_count": 10,
      "outputs": [
        {
          "output_type": "stream",
          "name": "stdout",
          "text": [
            "\n",
            "Client 0 received 3325 images:\n",
            "class\n",
            "happy       1004\n",
            "sad          672\n",
            "fear         577\n",
            "angry        562\n",
            "surprise     450\n",
            "disgust       60\n",
            "Name: count, dtype: int64\n",
            "\n",
            "Client 1 received 3325 images:\n",
            "class\n",
            "happy       1004\n",
            "sad          672\n",
            "fear         577\n",
            "angry        562\n",
            "surprise     450\n",
            "disgust       60\n",
            "Name: count, dtype: int64\n",
            "\n",
            "Client 2 received 3325 images:\n",
            "class\n",
            "happy       1004\n",
            "sad          671\n",
            "fear         577\n",
            "angry        562\n",
            "surprise     451\n",
            "disgust       60\n",
            "Name: count, dtype: int64\n",
            "\n",
            "Client 3 received 3325 images:\n",
            "class\n",
            "happy       1005\n",
            "sad          672\n",
            "fear         577\n",
            "angry        561\n",
            "surprise     450\n",
            "disgust       60\n",
            "Name: count, dtype: int64\n",
            "\n",
            "Client 4 received 3327 images:\n",
            "class\n",
            "happy       1005\n",
            "sad          672\n",
            "fear         578\n",
            "angry        562\n",
            "surprise     451\n",
            "disgust       59\n",
            "Name: count, dtype: int64\n"
          ]
        }
      ]
    },
    {
      "cell_type": "markdown",
      "source": [
        "Data Generators for Clients"
      ],
      "metadata": {
        "id": "d7KfEhKhj594"
      }
    },
    {
      "cell_type": "code",
      "source": [
        "train_clients={}\n",
        "for i, df in enumerate(client_dfs):\n",
        "    train_clients[f'client_{i}']=ImageDataGenerator(\n",
        "        rescale=1./255,\n",
        "        rotation_range=10,\n",
        "        width_shift_range=0.1,\n",
        "        height_shift_range=0.1,\n",
        "        horizontal_flip=True,\n",
        "        zoom_range=0.1\n",
        "    ).flow_from_dataframe(\n",
        "        dataframe=df,\n",
        "        x_col='filename',\n",
        "        y_col='class',\n",
        "        target_size=(IMG_DIM, IMG_DIM),\n",
        "        color_mode='grayscale',\n",
        "        class_mode='categorical',\n",
        "        batch_size=BATCH_SIZE,\n",
        "        classes=CLASSES,\n",
        "        shuffle=True\n",
        "    )"
      ],
      "metadata": {
        "id": "VwUF2KkcbxI0",
        "outputId": "3e550950-4114-47f3-cd35-39ba4ef0c4a2",
        "colab": {
          "base_uri": "https://localhost:8080/"
        }
      },
      "execution_count": 11,
      "outputs": [
        {
          "output_type": "stream",
          "name": "stdout",
          "text": [
            "Found 3325 validated image filenames belonging to 6 classes.\n",
            "Found 3325 validated image filenames belonging to 6 classes.\n",
            "Found 3325 validated image filenames belonging to 6 classes.\n",
            "Found 3325 validated image filenames belonging to 6 classes.\n",
            "Found 3327 validated image filenames belonging to 6 classes.\n"
          ]
        }
      ]
    },
    {
      "cell_type": "markdown",
      "source": [
        "Validation Data Generator"
      ],
      "metadata": {
        "id": "-Gr8yB3Zj80C"
      }
    },
    {
      "cell_type": "code",
      "source": [
        "val_gen=ImageDataGenerator(rescale=1./255).flow_from_dataframe(\n",
        "    dataframe=df_val,\n",
        "    x_col='filename',\n",
        "    y_col='class',\n",
        "    target_size=(IMG_DIM, IMG_DIM),\n",
        "    color_mode='grayscale',\n",
        "    class_mode='categorical',\n",
        "    batch_size=BATCH_SIZE,\n",
        "    classes=CLASSES,\n",
        "    shuffle=False\n",
        ")\n",
        "print(f\"Training clients:{len(train_clients)}\")\n",
        "print(f\"Validation samples:{len(df_val)}\")"
      ],
      "metadata": {
        "id": "aTRDkDTpeCo9",
        "outputId": "89061907-b38d-46b1-cb4a-efc57edba6b3",
        "colab": {
          "base_uri": "https://localhost:8080/"
        }
      },
      "execution_count": 12,
      "outputs": [
        {
          "output_type": "stream",
          "name": "stdout",
          "text": [
            "Found 7127 validated image filenames belonging to 6 classes.\n",
            "Training clients:5\n",
            "Validation samples:7127\n"
          ]
        }
      ]
    },
    {
      "cell_type": "markdown",
      "source": [
        "CNN MODEL"
      ],
      "metadata": {
        "id": "6Bil5KgIj-8R"
      }
    },
    {
      "cell_type": "code",
      "source": [
        "def create_model():\n",
        "    model = Sequential([\n",
        "        Conv2D(32, (3, 3), padding='same', input_shape=(IMG_DIM, IMG_DIM, 1), activation='relu'),\n",
        "        MaxPooling2D((2, 2)),\n",
        "        BatchNormalization(),\n",
        "        Conv2D(64, (3, 3), padding='same', activation='relu'),\n",
        "        MaxPooling2D((2, 2)),\n",
        "        BatchNormalization(),\n",
        "        Conv2D(64, (3, 3), padding='same', activation='relu'),\n",
        "        MaxPooling2D((2, 2)),\n",
        "        BatchNormalization(),\n",
        "        Conv2D(128, (3, 3), padding='same', activation='relu', name='last_conv'),\n",
        "        MaxPooling2D((2, 2)),\n",
        "        BatchNormalization(),\n",
        "        Flatten(),\n",
        "        Dense(128, activation='relu'),\n",
        "        Dense(NUM_CLASSES, activation='softmax')\n",
        "    ])\n",
        "    model.compile(optimizer=Adam(0.001), loss='categorical_crossentropy', metrics=['accuracy'])\n",
        "    return model\n",
        "\n",
        "model = create_model()"
      ],
      "metadata": {
        "colab": {
          "base_uri": "https://localhost:8080/"
        },
        "id": "o3Dx6EdIcp66",
        "outputId": "19b749ed-38a8-40b5-a69f-6a87bc3b0614"
      },
      "execution_count": 13,
      "outputs": [
        {
          "output_type": "stream",
          "name": "stderr",
          "text": [
            "/usr/local/lib/python3.11/dist-packages/keras/src/layers/convolutional/base_conv.py:107: UserWarning: Do not pass an `input_shape`/`input_dim` argument to a layer. When using Sequential models, prefer using an `Input(shape)` object as the first layer in the model instead.\n",
            "  super().__init__(activity_regularizer=activity_regularizer, **kwargs)\n"
          ]
        }
      ]
    },
    {
      "cell_type": "markdown",
      "source": [
        "Federated Training Loop"
      ],
      "metadata": {
        "id": "5xkEYt3bkGCg"
      }
    },
    {
      "cell_type": "code",
      "source": [
        "round_acc, round_loss = [], []\n",
        "global_weights = model.get_weights()\n",
        "\n",
        "for round in range(NUM_ROUNDS):\n",
        "    print(f\"\\n=== Round {round+1}/{NUM_ROUNDS} ===\")\n",
        "    client_weights = []\n",
        "\n",
        "    # Client update\n",
        "    for client_name, gen in train_clients.items():\n",
        "        print(f\"\\nTraining {client_name}...\")\n",
        "        client_model = create_model()\n",
        "        client_model.set_weights(global_weights)\n",
        "        client_model.fit(gen, epochs=CLIENT_EPOCHS, verbose=1)\n",
        "        client_weights.append(client_model.get_weights())\n",
        "\n",
        "    # Federated averaging\n",
        "    global_weights = [np.mean([w[i] for w in client_weights], axis=0) for i in range(len(global_weights))]\n",
        "    model.set_weights(global_weights)\n",
        "\n",
        "\n",
        "    val_loss, val_acc = model.evaluate(val_gen, verbose=0)\n",
        "    round_acc.append(val_acc)\n",
        "    round_loss.append(val_loss)\n",
        "    print(f\"\\n[Validation]Global Model - Accuracy: {val_acc:.4f}, Loss: {val_loss:.4f}\")"
      ],
      "metadata": {
        "id": "w1-F9oUVdFaq",
        "colab": {
          "base_uri": "https://localhost:8080/"
        },
        "outputId": "63b715b0-ab8d-457a-cb7e-4ce06176678d"
      },
      "execution_count": 17,
      "outputs": [
        {
          "output_type": "stream",
          "name": "stdout",
          "text": [
            "\n",
            "=== Round 1/5 ===\n",
            "\n",
            "Training client_0...\n",
            "Epoch 1/5\n",
            "\u001b[1m104/104\u001b[0m \u001b[32m━━━━━━━━━━━━━━━━━━━━\u001b[0m\u001b[37m\u001b[0m \u001b[1m31s\u001b[0m 242ms/step - accuracy: 0.2913 - loss: 1.9174\n",
            "Epoch 2/5\n",
            "\u001b[1m104/104\u001b[0m \u001b[32m━━━━━━━━━━━━━━━━━━━━\u001b[0m\u001b[37m\u001b[0m \u001b[1m27s\u001b[0m 260ms/step - accuracy: 0.3232 - loss: 1.6109\n",
            "Epoch 3/5\n",
            "\u001b[1m104/104\u001b[0m \u001b[32m━━━━━━━━━━━━━━━━━━━━\u001b[0m\u001b[37m\u001b[0m \u001b[1m27s\u001b[0m 262ms/step - accuracy: 0.3811 - loss: 1.5097\n",
            "Epoch 4/5\n",
            "\u001b[1m104/104\u001b[0m \u001b[32m━━━━━━━━━━━━━━━━━━━━\u001b[0m\u001b[37m\u001b[0m \u001b[1m27s\u001b[0m 260ms/step - accuracy: 0.4096 - loss: 1.4433\n",
            "Epoch 5/5\n",
            "\u001b[1m104/104\u001b[0m \u001b[32m━━━━━━━━━━━━━━━━━━━━\u001b[0m\u001b[37m\u001b[0m \u001b[1m27s\u001b[0m 254ms/step - accuracy: 0.4197 - loss: 1.4036\n",
            "\n",
            "Training client_1...\n",
            "Epoch 1/5\n",
            "\u001b[1m104/104\u001b[0m \u001b[32m━━━━━━━━━━━━━━━━━━━━\u001b[0m\u001b[37m\u001b[0m \u001b[1m33s\u001b[0m 270ms/step - accuracy: 0.2820 - loss: 1.9201\n",
            "Epoch 2/5\n",
            "\u001b[1m104/104\u001b[0m \u001b[32m━━━━━━━━━━━━━━━━━━━━\u001b[0m\u001b[37m\u001b[0m \u001b[1m28s\u001b[0m 270ms/step - accuracy: 0.3464 - loss: 1.5459\n",
            "Epoch 3/5\n",
            "\u001b[1m104/104\u001b[0m \u001b[32m━━━━━━━━━━━━━━━━━━━━\u001b[0m\u001b[37m\u001b[0m \u001b[1m26s\u001b[0m 252ms/step - accuracy: 0.3856 - loss: 1.4735\n",
            "Epoch 4/5\n",
            "\u001b[1m104/104\u001b[0m \u001b[32m━━━━━━━━━━━━━━━━━━━━\u001b[0m\u001b[37m\u001b[0m \u001b[1m43s\u001b[0m 269ms/step - accuracy: 0.4128 - loss: 1.4385\n",
            "Epoch 5/5\n",
            "\u001b[1m104/104\u001b[0m \u001b[32m━━━━━━━━━━━━━━━━━━━━\u001b[0m\u001b[37m\u001b[0m \u001b[1m40s\u001b[0m 261ms/step - accuracy: 0.4702 - loss: 1.3451\n",
            "\n",
            "Training client_2...\n",
            "Epoch 1/5\n",
            "\u001b[1m104/104\u001b[0m \u001b[32m━━━━━━━━━━━━━━━━━━━━\u001b[0m\u001b[37m\u001b[0m \u001b[1m34s\u001b[0m 283ms/step - accuracy: 0.2602 - loss: 1.9580\n",
            "Epoch 2/5\n",
            "\u001b[1m104/104\u001b[0m \u001b[32m━━━━━━━━━━━━━━━━━━━━\u001b[0m\u001b[37m\u001b[0m \u001b[1m29s\u001b[0m 278ms/step - accuracy: 0.3481 - loss: 1.5719\n",
            "Epoch 3/5\n",
            "\u001b[1m104/104\u001b[0m \u001b[32m━━━━━━━━━━━━━━━━━━━━\u001b[0m\u001b[37m\u001b[0m \u001b[1m30s\u001b[0m 288ms/step - accuracy: 0.4036 - loss: 1.4870\n",
            "Epoch 4/5\n",
            "\u001b[1m104/104\u001b[0m \u001b[32m━━━━━━━━━━━━━━━━━━━━\u001b[0m\u001b[37m\u001b[0m \u001b[1m29s\u001b[0m 278ms/step - accuracy: 0.4187 - loss: 1.4338\n",
            "Epoch 5/5\n",
            "\u001b[1m104/104\u001b[0m \u001b[32m━━━━━━━━━━━━━━━━━━━━\u001b[0m\u001b[37m\u001b[0m \u001b[1m28s\u001b[0m 266ms/step - accuracy: 0.4524 - loss: 1.3769\n",
            "\n",
            "Training client_3...\n",
            "Epoch 1/5\n",
            "\u001b[1m104/104\u001b[0m \u001b[32m━━━━━━━━━━━━━━━━━━━━\u001b[0m\u001b[37m\u001b[0m \u001b[1m32s\u001b[0m 269ms/step - accuracy: 0.2685 - loss: 1.9542\n",
            "Epoch 2/5\n",
            "\u001b[1m104/104\u001b[0m \u001b[32m━━━━━━━━━━━━━━━━━━━━\u001b[0m\u001b[37m\u001b[0m \u001b[1m28s\u001b[0m 267ms/step - accuracy: 0.3470 - loss: 1.5787\n",
            "Epoch 3/5\n",
            "\u001b[1m104/104\u001b[0m \u001b[32m━━━━━━━━━━━━━━━━━━━━\u001b[0m\u001b[37m\u001b[0m \u001b[1m27s\u001b[0m 255ms/step - accuracy: 0.3776 - loss: 1.5119\n",
            "Epoch 4/5\n",
            "\u001b[1m104/104\u001b[0m \u001b[32m━━━━━━━━━━━━━━━━━━━━\u001b[0m\u001b[37m\u001b[0m \u001b[1m41s\u001b[0m 255ms/step - accuracy: 0.4283 - loss: 1.4086\n",
            "Epoch 5/5\n",
            "\u001b[1m104/104\u001b[0m \u001b[32m━━━━━━━━━━━━━━━━━━━━\u001b[0m\u001b[37m\u001b[0m \u001b[1m42s\u001b[0m 261ms/step - accuracy: 0.4402 - loss: 1.3606\n",
            "\n",
            "Training client_4...\n",
            "Epoch 1/5\n",
            "\u001b[1m104/104\u001b[0m \u001b[32m━━━━━━━━━━━━━━━━━━━━\u001b[0m\u001b[37m\u001b[0m \u001b[1m32s\u001b[0m 264ms/step - accuracy: 0.2639 - loss: 1.9641\n",
            "Epoch 2/5\n",
            "\u001b[1m104/104\u001b[0m \u001b[32m━━━━━━━━━━━━━━━━━━━━\u001b[0m\u001b[37m\u001b[0m \u001b[1m28s\u001b[0m 268ms/step - accuracy: 0.3409 - loss: 1.5790\n",
            "Epoch 3/5\n",
            "\u001b[1m104/104\u001b[0m \u001b[32m━━━━━━━━━━━━━━━━━━━━\u001b[0m\u001b[37m\u001b[0m \u001b[1m28s\u001b[0m 264ms/step - accuracy: 0.3781 - loss: 1.4990\n",
            "Epoch 4/5\n",
            "\u001b[1m104/104\u001b[0m \u001b[32m━━━━━━━━━━━━━━━━━━━━\u001b[0m\u001b[37m\u001b[0m \u001b[1m41s\u001b[0m 267ms/step - accuracy: 0.4153 - loss: 1.4273\n",
            "Epoch 5/5\n",
            "\u001b[1m104/104\u001b[0m \u001b[32m━━━━━━━━━━━━━━━━━━━━\u001b[0m\u001b[37m\u001b[0m \u001b[1m27s\u001b[0m 253ms/step - accuracy: 0.4514 - loss: 1.3481\n",
            "\n",
            "[Validation]Global Model - Accuracy: 0.3123, Loss: 1.6578\n",
            "\n",
            "=== Round 2/5 ===\n",
            "\n",
            "Training client_0...\n",
            "Epoch 1/5\n",
            "\u001b[1m104/104\u001b[0m \u001b[32m━━━━━━━━━━━━━━━━━━━━\u001b[0m\u001b[37m\u001b[0m \u001b[1m31s\u001b[0m 259ms/step - accuracy: 0.3809 - loss: 1.4814\n",
            "Epoch 2/5\n",
            "\u001b[1m104/104\u001b[0m \u001b[32m━━━━━━━━━━━━━━━━━━━━\u001b[0m\u001b[37m\u001b[0m \u001b[1m27s\u001b[0m 261ms/step - accuracy: 0.4427 - loss: 1.4028\n",
            "Epoch 3/5\n",
            "\u001b[1m104/104\u001b[0m \u001b[32m━━━━━━━━━━━━━━━━━━━━\u001b[0m\u001b[37m\u001b[0m \u001b[1m27s\u001b[0m 259ms/step - accuracy: 0.4555 - loss: 1.3157\n",
            "Epoch 4/5\n",
            "\u001b[1m104/104\u001b[0m \u001b[32m━━━━━━━━━━━━━━━━━━━━\u001b[0m\u001b[37m\u001b[0m \u001b[1m41s\u001b[0m 255ms/step - accuracy: 0.4698 - loss: 1.2819\n",
            "Epoch 5/5\n",
            "\u001b[1m104/104\u001b[0m \u001b[32m━━━━━━━━━━━━━━━━━━━━\u001b[0m\u001b[37m\u001b[0m \u001b[1m26s\u001b[0m 249ms/step - accuracy: 0.5057 - loss: 1.2482\n",
            "\n",
            "Training client_1...\n",
            "Epoch 1/5\n",
            "\u001b[1m104/104\u001b[0m \u001b[32m━━━━━━━━━━━━━━━━━━━━\u001b[0m\u001b[37m\u001b[0m \u001b[1m32s\u001b[0m 254ms/step - accuracy: 0.3791 - loss: 1.5068\n",
            "Epoch 2/5\n",
            "\u001b[1m104/104\u001b[0m \u001b[32m━━━━━━━━━━━━━━━━━━━━\u001b[0m\u001b[37m\u001b[0m \u001b[1m42s\u001b[0m 260ms/step - accuracy: 0.4381 - loss: 1.3924\n",
            "Epoch 3/5\n",
            "\u001b[1m104/104\u001b[0m \u001b[32m━━━━━━━━━━━━━━━━━━━━\u001b[0m\u001b[37m\u001b[0m \u001b[1m26s\u001b[0m 250ms/step - accuracy: 0.4639 - loss: 1.3234\n",
            "Epoch 4/5\n",
            "\u001b[1m104/104\u001b[0m \u001b[32m━━━━━━━━━━━━━━━━━━━━\u001b[0m\u001b[37m\u001b[0m \u001b[1m28s\u001b[0m 267ms/step - accuracy: 0.4842 - loss: 1.2736\n",
            "Epoch 5/5\n",
            "\u001b[1m104/104\u001b[0m \u001b[32m━━━━━━━━━━━━━━━━━━━━\u001b[0m\u001b[37m\u001b[0m \u001b[1m28s\u001b[0m 264ms/step - accuracy: 0.5052 - loss: 1.2289\n",
            "\n",
            "Training client_2...\n",
            "Epoch 1/5\n",
            "\u001b[1m104/104\u001b[0m \u001b[32m━━━━━━━━━━━━━━━━━━━━\u001b[0m\u001b[37m\u001b[0m \u001b[1m32s\u001b[0m 268ms/step - accuracy: 0.4100 - loss: 1.4856\n",
            "Epoch 2/5\n",
            "\u001b[1m104/104\u001b[0m \u001b[32m━━━━━━━━━━━━━━━━━━━━\u001b[0m\u001b[37m\u001b[0m \u001b[1m28s\u001b[0m 265ms/step - accuracy: 0.4507 - loss: 1.3633\n",
            "Epoch 3/5\n",
            "\u001b[1m104/104\u001b[0m \u001b[32m━━━━━━━━━━━━━━━━━━━━\u001b[0m\u001b[37m\u001b[0m \u001b[1m28s\u001b[0m 266ms/step - accuracy: 0.4497 - loss: 1.3547\n",
            "Epoch 4/5\n",
            "\u001b[1m104/104\u001b[0m \u001b[32m━━━━━━━━━━━━━━━━━━━━\u001b[0m\u001b[37m\u001b[0m \u001b[1m28s\u001b[0m 267ms/step - accuracy: 0.4829 - loss: 1.2875\n",
            "Epoch 5/5\n",
            "\u001b[1m104/104\u001b[0m \u001b[32m━━━━━━━━━━━━━━━━━━━━\u001b[0m\u001b[37m\u001b[0m \u001b[1m28s\u001b[0m 266ms/step - accuracy: 0.4957 - loss: 1.2632\n",
            "\n",
            "Training client_3...\n",
            "Epoch 1/5\n",
            "\u001b[1m104/104\u001b[0m \u001b[32m━━━━━━━━━━━━━━━━━━━━\u001b[0m\u001b[37m\u001b[0m \u001b[1m32s\u001b[0m 270ms/step - accuracy: 0.3955 - loss: 1.4847\n",
            "Epoch 2/5\n",
            "\u001b[1m104/104\u001b[0m \u001b[32m━━━━━━━━━━━━━━━━━━━━\u001b[0m\u001b[37m\u001b[0m \u001b[1m28s\u001b[0m 271ms/step - accuracy: 0.4305 - loss: 1.4199\n",
            "Epoch 3/5\n",
            "\u001b[1m104/104\u001b[0m \u001b[32m━━━━━━━━━━━━━━━━━━━━\u001b[0m\u001b[37m\u001b[0m \u001b[1m29s\u001b[0m 274ms/step - accuracy: 0.4559 - loss: 1.3385\n",
            "Epoch 4/5\n",
            "\u001b[1m104/104\u001b[0m \u001b[32m━━━━━━━━━━━━━━━━━━━━\u001b[0m\u001b[37m\u001b[0m \u001b[1m27s\u001b[0m 262ms/step - accuracy: 0.4989 - loss: 1.2680\n",
            "Epoch 5/5\n",
            "\u001b[1m104/104\u001b[0m \u001b[32m━━━━━━━━━━━━━━━━━━━━\u001b[0m\u001b[37m\u001b[0m \u001b[1m40s\u001b[0m 255ms/step - accuracy: 0.5141 - loss: 1.2293\n",
            "\n",
            "Training client_4...\n",
            "Epoch 1/5\n",
            "\u001b[1m104/104\u001b[0m \u001b[32m━━━━━━━━━━━━━━━━━━━━\u001b[0m\u001b[37m\u001b[0m \u001b[1m34s\u001b[0m 277ms/step - accuracy: 0.3821 - loss: 1.4977\n",
            "Epoch 2/5\n",
            "\u001b[1m104/104\u001b[0m \u001b[32m━━━━━━━━━━━━━━━━━━━━\u001b[0m\u001b[37m\u001b[0m \u001b[1m28s\u001b[0m 272ms/step - accuracy: 0.4428 - loss: 1.3535\n",
            "Epoch 3/5\n",
            "\u001b[1m104/104\u001b[0m \u001b[32m━━━━━━━━━━━━━━━━━━━━\u001b[0m\u001b[37m\u001b[0m \u001b[1m28s\u001b[0m 271ms/step - accuracy: 0.4625 - loss: 1.3286\n",
            "Epoch 4/5\n",
            "\u001b[1m104/104\u001b[0m \u001b[32m━━━━━━━━━━━━━━━━━━━━\u001b[0m\u001b[37m\u001b[0m \u001b[1m28s\u001b[0m 264ms/step - accuracy: 0.4768 - loss: 1.2989\n",
            "Epoch 5/5\n",
            "\u001b[1m104/104\u001b[0m \u001b[32m━━━━━━━━━━━━━━━━━━━━\u001b[0m\u001b[37m\u001b[0m \u001b[1m28s\u001b[0m 262ms/step - accuracy: 0.4995 - loss: 1.2665\n",
            "\n",
            "[Validation]Global Model - Accuracy: 0.4581, Loss: 1.3127\n",
            "\n",
            "=== Round 3/5 ===\n",
            "\n",
            "Training client_0...\n",
            "Epoch 1/5\n",
            "\u001b[1m104/104\u001b[0m \u001b[32m━━━━━━━━━━━━━━━━━━━━\u001b[0m\u001b[37m\u001b[0m \u001b[1m33s\u001b[0m 275ms/step - accuracy: 0.4762 - loss: 1.2769\n",
            "Epoch 2/5\n",
            "\u001b[1m104/104\u001b[0m \u001b[32m━━━━━━━━━━━━━━━━━━━━\u001b[0m\u001b[37m\u001b[0m \u001b[1m27s\u001b[0m 262ms/step - accuracy: 0.5189 - loss: 1.2187\n",
            "Epoch 3/5\n",
            "\u001b[1m104/104\u001b[0m \u001b[32m━━━━━━━━━━━━━━━━━━━━\u001b[0m\u001b[37m\u001b[0m \u001b[1m28s\u001b[0m 271ms/step - accuracy: 0.5089 - loss: 1.2265\n",
            "Epoch 4/5\n",
            "\u001b[1m104/104\u001b[0m \u001b[32m━━━━━━━━━━━━━━━━━━━━\u001b[0m\u001b[37m\u001b[0m \u001b[1m28s\u001b[0m 273ms/step - accuracy: 0.5259 - loss: 1.1711\n",
            "Epoch 5/5\n",
            "\u001b[1m104/104\u001b[0m \u001b[32m━━━━━━━━━━━━━━━━━━━━\u001b[0m\u001b[37m\u001b[0m \u001b[1m28s\u001b[0m 273ms/step - accuracy: 0.5325 - loss: 1.1399\n",
            "\n",
            "Training client_1...\n",
            "Epoch 1/5\n",
            "\u001b[1m104/104\u001b[0m \u001b[32m━━━━━━━━━━━━━━━━━━━━\u001b[0m\u001b[37m\u001b[0m \u001b[1m32s\u001b[0m 268ms/step - accuracy: 0.4935 - loss: 1.2514\n",
            "Epoch 2/5\n",
            "\u001b[1m104/104\u001b[0m \u001b[32m━━━━━━━━━━━━━━━━━━━━\u001b[0m\u001b[37m\u001b[0m \u001b[1m28s\u001b[0m 269ms/step - accuracy: 0.5151 - loss: 1.2053\n",
            "Epoch 3/5\n",
            "\u001b[1m104/104\u001b[0m \u001b[32m━━━━━━━━━━━━━━━━━━━━\u001b[0m\u001b[37m\u001b[0m \u001b[1m28s\u001b[0m 272ms/step - accuracy: 0.5540 - loss: 1.1519\n",
            "Epoch 4/5\n",
            "\u001b[1m104/104\u001b[0m \u001b[32m━━━━━━━━━━━━━━━━━━━━\u001b[0m\u001b[37m\u001b[0m \u001b[1m27s\u001b[0m 263ms/step - accuracy: 0.5606 - loss: 1.1123\n",
            "Epoch 5/5\n",
            "\u001b[1m104/104\u001b[0m \u001b[32m━━━━━━━━━━━━━━━━━━━━\u001b[0m\u001b[37m\u001b[0m \u001b[1m28s\u001b[0m 264ms/step - accuracy: 0.5746 - loss: 1.0824\n",
            "\n",
            "Training client_2...\n",
            "Epoch 1/5\n",
            "\u001b[1m104/104\u001b[0m \u001b[32m━━━━━━━━━━━━━━━━━━━━\u001b[0m\u001b[37m\u001b[0m \u001b[1m33s\u001b[0m 270ms/step - accuracy: 0.4953 - loss: 1.2618\n",
            "Epoch 2/5\n",
            "\u001b[1m104/104\u001b[0m \u001b[32m━━━━━━━━━━━━━━━━━━━━\u001b[0m\u001b[37m\u001b[0m \u001b[1m29s\u001b[0m 275ms/step - accuracy: 0.5001 - loss: 1.2350\n",
            "Epoch 3/5\n",
            "\u001b[1m104/104\u001b[0m \u001b[32m━━━━━━━━━━━━━━━━━━━━\u001b[0m\u001b[37m\u001b[0m \u001b[1m28s\u001b[0m 269ms/step - accuracy: 0.5287 - loss: 1.1717\n",
            "Epoch 4/5\n",
            "\u001b[1m104/104\u001b[0m \u001b[32m━━━━━━━━━━━━━━━━━━━━\u001b[0m\u001b[37m\u001b[0m \u001b[1m40s\u001b[0m 261ms/step - accuracy: 0.5658 - loss: 1.1386\n",
            "Epoch 5/5\n",
            "\u001b[1m104/104\u001b[0m \u001b[32m━━━━━━━━━━━━━━━━━━━━\u001b[0m\u001b[37m\u001b[0m \u001b[1m28s\u001b[0m 266ms/step - accuracy: 0.5559 - loss: 1.0965\n",
            "\n",
            "Training client_3...\n",
            "Epoch 1/5\n",
            "\u001b[1m104/104\u001b[0m \u001b[32m━━━━━━━━━━━━━━━━━━━━\u001b[0m\u001b[37m\u001b[0m \u001b[1m32s\u001b[0m 264ms/step - accuracy: 0.4839 - loss: 1.2813\n",
            "Epoch 2/5\n",
            "\u001b[1m104/104\u001b[0m \u001b[32m━━━━━━━━━━━━━━━━━━━━\u001b[0m\u001b[37m\u001b[0m \u001b[1m40s\u001b[0m 257ms/step - accuracy: 0.5185 - loss: 1.2117\n",
            "Epoch 3/5\n",
            "\u001b[1m104/104\u001b[0m \u001b[32m━━━━━━━━━━━━━━━━━━━━\u001b[0m\u001b[37m\u001b[0m \u001b[1m42s\u001b[0m 271ms/step - accuracy: 0.5380 - loss: 1.1444\n",
            "Epoch 4/5\n",
            "\u001b[1m104/104\u001b[0m \u001b[32m━━━━━━━━━━━━━━━━━━━━\u001b[0m\u001b[37m\u001b[0m \u001b[1m28s\u001b[0m 264ms/step - accuracy: 0.5518 - loss: 1.1415\n",
            "Epoch 5/5\n",
            "\u001b[1m104/104\u001b[0m \u001b[32m━━━━━━━━━━━━━━━━━━━━\u001b[0m\u001b[37m\u001b[0m \u001b[1m40s\u001b[0m 255ms/step - accuracy: 0.5630 - loss: 1.1172\n",
            "\n",
            "Training client_4...\n",
            "Epoch 1/5\n",
            "\u001b[1m104/104\u001b[0m \u001b[32m━━━━━━━━━━━━━━━━━━━━\u001b[0m\u001b[37m\u001b[0m \u001b[1m33s\u001b[0m 269ms/step - accuracy: 0.4839 - loss: 1.2947\n",
            "Epoch 2/5\n",
            "\u001b[1m104/104\u001b[0m \u001b[32m━━━━━━━━━━━━━━━━━━━━\u001b[0m\u001b[37m\u001b[0m \u001b[1m27s\u001b[0m 259ms/step - accuracy: 0.5333 - loss: 1.1949\n",
            "Epoch 3/5\n",
            "\u001b[1m104/104\u001b[0m \u001b[32m━━━━━━━━━━━━━━━━━━━━\u001b[0m\u001b[37m\u001b[0m \u001b[1m39s\u001b[0m 245ms/step - accuracy: 0.5569 - loss: 1.1413\n",
            "Epoch 4/5\n",
            "\u001b[1m104/104\u001b[0m \u001b[32m━━━━━━━━━━━━━━━━━━━━\u001b[0m\u001b[37m\u001b[0m \u001b[1m27s\u001b[0m 257ms/step - accuracy: 0.5591 - loss: 1.1292\n",
            "Epoch 5/5\n",
            "\u001b[1m104/104\u001b[0m \u001b[32m━━━━━━━━━━━━━━━━━━━━\u001b[0m\u001b[37m\u001b[0m \u001b[1m42s\u001b[0m 265ms/step - accuracy: 0.5672 - loss: 1.1171\n",
            "\n",
            "[Validation]Global Model - Accuracy: 0.5643, Loss: 1.0967\n",
            "\n",
            "=== Round 4/5 ===\n",
            "\n",
            "Training client_0...\n",
            "Epoch 1/5\n",
            "\u001b[1m104/104\u001b[0m \u001b[32m━━━━━━━━━━━━━━━━━━━━\u001b[0m\u001b[37m\u001b[0m \u001b[1m33s\u001b[0m 271ms/step - accuracy: 0.5504 - loss: 1.1249\n",
            "Epoch 2/5\n",
            "\u001b[1m104/104\u001b[0m \u001b[32m━━━━━━━━━━━━━━━━━━━━\u001b[0m\u001b[37m\u001b[0m \u001b[1m29s\u001b[0m 273ms/step - accuracy: 0.5395 - loss: 1.1514\n",
            "Epoch 3/5\n",
            "\u001b[1m104/104\u001b[0m \u001b[32m━━━━━━━━━━━━━━━━━━━━\u001b[0m\u001b[37m\u001b[0m \u001b[1m29s\u001b[0m 273ms/step - accuracy: 0.5558 - loss: 1.1075\n",
            "Epoch 4/5\n",
            "\u001b[1m104/104\u001b[0m \u001b[32m━━━━━━━━━━━━━━━━━━━━\u001b[0m\u001b[37m\u001b[0m \u001b[1m41s\u001b[0m 272ms/step - accuracy: 0.5530 - loss: 1.1126\n",
            "Epoch 5/5\n",
            "\u001b[1m104/104\u001b[0m \u001b[32m━━━━━━━━━━━━━━━━━━━━\u001b[0m\u001b[37m\u001b[0m \u001b[1m41s\u001b[0m 269ms/step - accuracy: 0.5858 - loss: 1.0406\n",
            "\n",
            "Training client_1...\n",
            "Epoch 1/5\n",
            "\u001b[1m104/104\u001b[0m \u001b[32m━━━━━━━━━━━━━━━━━━━━\u001b[0m\u001b[37m\u001b[0m \u001b[1m32s\u001b[0m 271ms/step - accuracy: 0.5438 - loss: 1.1431\n",
            "Epoch 2/5\n",
            "\u001b[1m104/104\u001b[0m \u001b[32m━━━━━━━━━━━━━━━━━━━━\u001b[0m\u001b[37m\u001b[0m \u001b[1m28s\u001b[0m 270ms/step - accuracy: 0.5563 - loss: 1.0960\n",
            "Epoch 3/5\n",
            "\u001b[1m104/104\u001b[0m \u001b[32m━━━━━━━━━━━━━━━━━━━━\u001b[0m\u001b[37m\u001b[0m \u001b[1m28s\u001b[0m 268ms/step - accuracy: 0.5719 - loss: 1.0638\n",
            "Epoch 4/5\n",
            "\u001b[1m104/104\u001b[0m \u001b[32m━━━━━━━━━━━━━━━━━━━━\u001b[0m\u001b[37m\u001b[0m \u001b[1m29s\u001b[0m 273ms/step - accuracy: 0.5933 - loss: 1.0224\n",
            "Epoch 5/5\n",
            "\u001b[1m104/104\u001b[0m \u001b[32m━━━━━━━━━━━━━━━━━━━━\u001b[0m\u001b[37m\u001b[0m \u001b[1m39s\u001b[0m 254ms/step - accuracy: 0.5967 - loss: 1.0043\n",
            "\n",
            "Training client_2...\n",
            "Epoch 1/5\n",
            "\u001b[1m104/104\u001b[0m \u001b[32m━━━━━━━━━━━━━━━━━━━━\u001b[0m\u001b[37m\u001b[0m \u001b[1m33s\u001b[0m 269ms/step - accuracy: 0.5285 - loss: 1.1838\n",
            "Epoch 2/5\n",
            "\u001b[1m104/104\u001b[0m \u001b[32m━━━━━━━━━━━━━━━━━━━━\u001b[0m\u001b[37m\u001b[0m \u001b[1m28s\u001b[0m 269ms/step - accuracy: 0.5564 - loss: 1.1334\n",
            "Epoch 3/5\n",
            "\u001b[1m104/104\u001b[0m \u001b[32m━━━━━━━━━━━━━━━━━━━━\u001b[0m\u001b[37m\u001b[0m \u001b[1m39s\u001b[0m 252ms/step - accuracy: 0.5675 - loss: 1.0941\n",
            "Epoch 4/5\n",
            "\u001b[1m104/104\u001b[0m \u001b[32m━━━━━━━━━━━━━━━━━━━━\u001b[0m\u001b[37m\u001b[0m \u001b[1m26s\u001b[0m 249ms/step - accuracy: 0.5861 - loss: 1.0704\n",
            "Epoch 5/5\n",
            "\u001b[1m104/104\u001b[0m \u001b[32m━━━━━━━━━━━━━━━━━━━━\u001b[0m\u001b[37m\u001b[0m \u001b[1m28s\u001b[0m 268ms/step - accuracy: 0.5889 - loss: 1.0259\n",
            "\n",
            "Training client_3...\n",
            "Epoch 1/5\n",
            "\u001b[1m104/104\u001b[0m \u001b[32m━━━━━━━━━━━━━━━━━━━━\u001b[0m\u001b[37m\u001b[0m \u001b[1m32s\u001b[0m 261ms/step - accuracy: 0.5564 - loss: 1.1325\n",
            "Epoch 2/5\n",
            "\u001b[1m104/104\u001b[0m \u001b[32m━━━━━━━━━━━━━━━━━━━━\u001b[0m\u001b[37m\u001b[0m \u001b[1m40s\u001b[0m 254ms/step - accuracy: 0.5605 - loss: 1.0762\n",
            "Epoch 3/5\n",
            "\u001b[1m104/104\u001b[0m \u001b[32m━━━━━━━━━━━━━━━━━━━━\u001b[0m\u001b[37m\u001b[0m \u001b[1m41s\u001b[0m 257ms/step - accuracy: 0.5919 - loss: 1.0380\n",
            "Epoch 4/5\n",
            "\u001b[1m104/104\u001b[0m \u001b[32m━━━━━━━━━━━━━━━━━━━━\u001b[0m\u001b[37m\u001b[0m \u001b[1m27s\u001b[0m 259ms/step - accuracy: 0.6002 - loss: 1.0063\n",
            "Epoch 5/5\n",
            "\u001b[1m104/104\u001b[0m \u001b[32m━━━━━━━━━━━━━━━━━━━━\u001b[0m\u001b[37m\u001b[0m \u001b[1m28s\u001b[0m 272ms/step - accuracy: 0.6110 - loss: 0.9668\n",
            "\n",
            "Training client_4...\n",
            "Epoch 1/5\n",
            "\u001b[1m104/104\u001b[0m \u001b[32m━━━━━━━━━━━━━━━━━━━━\u001b[0m\u001b[37m\u001b[0m \u001b[1m32s\u001b[0m 259ms/step - accuracy: 0.5374 - loss: 1.1650\n",
            "Epoch 2/5\n",
            "\u001b[1m104/104\u001b[0m \u001b[32m━━━━━━━━━━━━━━━━━━━━\u001b[0m\u001b[37m\u001b[0m \u001b[1m41s\u001b[0m 264ms/step - accuracy: 0.5589 - loss: 1.1397\n",
            "Epoch 3/5\n",
            "\u001b[1m104/104\u001b[0m \u001b[32m━━━━━━━━━━━━━━━━━━━━\u001b[0m\u001b[37m\u001b[0m \u001b[1m40s\u001b[0m 249ms/step - accuracy: 0.5804 - loss: 1.0850\n",
            "Epoch 4/5\n",
            "\u001b[1m104/104\u001b[0m \u001b[32m━━━━━━━━━━━━━━━━━━━━\u001b[0m\u001b[37m\u001b[0m \u001b[1m27s\u001b[0m 260ms/step - accuracy: 0.5771 - loss: 1.0719\n",
            "Epoch 5/5\n",
            "\u001b[1m104/104\u001b[0m \u001b[32m━━━━━━━━━━━━━━━━━━━━\u001b[0m\u001b[37m\u001b[0m \u001b[1m28s\u001b[0m 266ms/step - accuracy: 0.5863 - loss: 1.0399\n",
            "\n",
            "[Validation]Global Model - Accuracy: 0.5886, Loss: 1.0736\n",
            "\n",
            "=== Round 5/5 ===\n",
            "\n",
            "Training client_0...\n",
            "Epoch 1/5\n",
            "\u001b[1m104/104\u001b[0m \u001b[32m━━━━━━━━━━━━━━━━━━━━\u001b[0m\u001b[37m\u001b[0m \u001b[1m32s\u001b[0m 266ms/step - accuracy: 0.5578 - loss: 1.0926\n",
            "Epoch 2/5\n",
            "\u001b[1m104/104\u001b[0m \u001b[32m━━━━━━━━━━━━━━━━━━━━\u001b[0m\u001b[37m\u001b[0m \u001b[1m28s\u001b[0m 267ms/step - accuracy: 0.5847 - loss: 1.0422\n",
            "Epoch 3/5\n",
            "\u001b[1m104/104\u001b[0m \u001b[32m━━━━━━━━━━━━━━━━━━━━\u001b[0m\u001b[37m\u001b[0m \u001b[1m28s\u001b[0m 264ms/step - accuracy: 0.5989 - loss: 1.0304\n",
            "Epoch 4/5\n",
            "\u001b[1m104/104\u001b[0m \u001b[32m━━━━━━━━━━━━━━━━━━━━\u001b[0m\u001b[37m\u001b[0m \u001b[1m27s\u001b[0m 263ms/step - accuracy: 0.6179 - loss: 0.9905\n",
            "Epoch 5/5\n",
            "\u001b[1m104/104\u001b[0m \u001b[32m━━━━━━━━━━━━━━━━━━━━\u001b[0m\u001b[37m\u001b[0m \u001b[1m28s\u001b[0m 272ms/step - accuracy: 0.6255 - loss: 0.9596\n",
            "\n",
            "Training client_1...\n",
            "Epoch 1/5\n",
            "\u001b[1m104/104\u001b[0m \u001b[32m━━━━━━━━━━━━━━━━━━━━\u001b[0m\u001b[37m\u001b[0m \u001b[1m33s\u001b[0m 274ms/step - accuracy: 0.5819 - loss: 1.0501\n",
            "Epoch 2/5\n",
            "\u001b[1m104/104\u001b[0m \u001b[32m━━━━━━━━━━━━━━━━━━━━\u001b[0m\u001b[37m\u001b[0m \u001b[1m29s\u001b[0m 275ms/step - accuracy: 0.6204 - loss: 0.9891\n",
            "Epoch 3/5\n",
            "\u001b[1m104/104\u001b[0m \u001b[32m━━━━━━━━━━━━━━━━━━━━\u001b[0m\u001b[37m\u001b[0m \u001b[1m29s\u001b[0m 275ms/step - accuracy: 0.6219 - loss: 0.9529\n",
            "Epoch 4/5\n",
            "\u001b[1m104/104\u001b[0m \u001b[32m━━━━━━━━━━━━━━━━━━━━\u001b[0m\u001b[37m\u001b[0m \u001b[1m28s\u001b[0m 270ms/step - accuracy: 0.6319 - loss: 0.9423\n",
            "Epoch 5/5\n",
            "\u001b[1m104/104\u001b[0m \u001b[32m━━━━━━━━━━━━━━━━━━━━\u001b[0m\u001b[37m\u001b[0m \u001b[1m28s\u001b[0m 267ms/step - accuracy: 0.6418 - loss: 0.9264\n",
            "\n",
            "Training client_2...\n",
            "Epoch 1/5\n",
            "\u001b[1m104/104\u001b[0m \u001b[32m━━━━━━━━━━━━━━━━━━━━\u001b[0m\u001b[37m\u001b[0m \u001b[1m32s\u001b[0m 268ms/step - accuracy: 0.5742 - loss: 1.0658\n",
            "Epoch 2/5\n",
            "\u001b[1m104/104\u001b[0m \u001b[32m━━━━━━━━━━━━━━━━━━━━\u001b[0m\u001b[37m\u001b[0m \u001b[1m28s\u001b[0m 270ms/step - accuracy: 0.5864 - loss: 1.0491\n",
            "Epoch 3/5\n",
            "\u001b[1m104/104\u001b[0m \u001b[32m━━━━━━━━━━━━━━━━━━━━\u001b[0m\u001b[37m\u001b[0m \u001b[1m28s\u001b[0m 264ms/step - accuracy: 0.6001 - loss: 1.0029\n",
            "Epoch 4/5\n",
            "\u001b[1m104/104\u001b[0m \u001b[32m━━━━━━━━━━━━━━━━━━━━\u001b[0m\u001b[37m\u001b[0m \u001b[1m41s\u001b[0m 263ms/step - accuracy: 0.6155 - loss: 0.9660\n",
            "Epoch 5/5\n",
            "\u001b[1m104/104\u001b[0m \u001b[32m━━━━━━━━━━━━━━━━━━━━\u001b[0m\u001b[37m\u001b[0m \u001b[1m26s\u001b[0m 249ms/step - accuracy: 0.6297 - loss: 0.9505\n",
            "\n",
            "Training client_3...\n",
            "Epoch 1/5\n",
            "\u001b[1m104/104\u001b[0m \u001b[32m━━━━━━━━━━━━━━━━━━━━\u001b[0m\u001b[37m\u001b[0m \u001b[1m34s\u001b[0m 270ms/step - accuracy: 0.5796 - loss: 1.0639\n",
            "Epoch 2/5\n",
            "\u001b[1m104/104\u001b[0m \u001b[32m━━━━━━━━━━━━━━━━━━━━\u001b[0m\u001b[37m\u001b[0m \u001b[1m27s\u001b[0m 263ms/step - accuracy: 0.6026 - loss: 1.0302\n",
            "Epoch 3/5\n",
            "\u001b[1m104/104\u001b[0m \u001b[32m━━━━━━━━━━━━━━━━━━━━\u001b[0m\u001b[37m\u001b[0m \u001b[1m40s\u001b[0m 252ms/step - accuracy: 0.6160 - loss: 0.9737\n",
            "Epoch 4/5\n",
            "\u001b[1m104/104\u001b[0m \u001b[32m━━━━━━━━━━━━━━━━━━━━\u001b[0m\u001b[37m\u001b[0m \u001b[1m42s\u001b[0m 259ms/step - accuracy: 0.6111 - loss: 0.9596\n",
            "Epoch 5/5\n",
            "\u001b[1m104/104\u001b[0m \u001b[32m━━━━━━━━━━━━━━━━━━━━\u001b[0m\u001b[37m\u001b[0m \u001b[1m41s\u001b[0m 259ms/step - accuracy: 0.6177 - loss: 0.9464\n",
            "\n",
            "Training client_4...\n",
            "Epoch 1/5\n",
            "\u001b[1m104/104\u001b[0m \u001b[32m━━━━━━━━━━━━━━━━━━━━\u001b[0m\u001b[37m\u001b[0m \u001b[1m31s\u001b[0m 264ms/step - accuracy: 0.5821 - loss: 1.0816\n",
            "Epoch 2/5\n",
            "\u001b[1m104/104\u001b[0m \u001b[32m━━━━━━━━━━━━━━━━━━━━\u001b[0m\u001b[37m\u001b[0m \u001b[1m27s\u001b[0m 261ms/step - accuracy: 0.5938 - loss: 1.0487\n",
            "Epoch 3/5\n",
            "\u001b[1m104/104\u001b[0m \u001b[32m━━━━━━━━━━━━━━━━━━━━\u001b[0m\u001b[37m\u001b[0m \u001b[1m40s\u001b[0m 249ms/step - accuracy: 0.5923 - loss: 1.0201\n",
            "Epoch 4/5\n",
            "\u001b[1m104/104\u001b[0m \u001b[32m━━━━━━━━━━━━━━━━━━━━\u001b[0m\u001b[37m\u001b[0m \u001b[1m26s\u001b[0m 251ms/step - accuracy: 0.6226 - loss: 0.9821\n",
            "Epoch 5/5\n",
            "\u001b[1m104/104\u001b[0m \u001b[32m━━━━━━━━━━━━━━━━━━━━\u001b[0m\u001b[37m\u001b[0m \u001b[1m27s\u001b[0m 260ms/step - accuracy: 0.6210 - loss: 0.9774\n",
            "\n",
            "[Validation]Global Model - Accuracy: 0.6154, Loss: 0.9912\n"
          ]
        }
      ]
    },
    {
      "cell_type": "code",
      "source": [
        "plt.figure(figsize=(12,5))\n",
        "plt.subplot(1,2,1)\n",
        "plt.plot(round_acc, marker='o')\n",
        "plt.title('Federated Training Accuracy')\n",
        "plt.xlabel('Communication Round')\n",
        "plt.ylabel('Accuracy')\n",
        "\n",
        "plt.subplot(1,2,2)\n",
        "plt.plot(round_loss, marker='o', color='orange')\n",
        "plt.title('Federated Training Loss')\n",
        "plt.xlabel('Communication Round')\n",
        "plt.ylabel('Loss')\n",
        "plt.tight_layout()\n",
        "plt.show()"
      ],
      "metadata": {
        "colab": {
          "base_uri": "https://localhost:8080/",
          "height": 507
        },
        "id": "_F56D3HqBPXb",
        "outputId": "2880c1dd-ced8-4f6f-b03d-e5040131ec4c"
      },
      "execution_count": 18,
      "outputs": [
        {
          "output_type": "display_data",
          "data": {
            "text/plain": [
              "<Figure size 1200x500 with 2 Axes>"
            ],
            "image/png": "[encoded data removed]"
          },
          "metadata": {}
        }
      ]
    },
    {
      "cell_type": "markdown",
      "source": [
        "Test Data"
      ],
      "metadata": {
        "id": "pYfnlDSOGJOT"
      }
    },
    {
      "cell_type": "code",
      "source": [
        "test_df = pd.concat([pd.DataFrame({\n",
        "    'filename': [os.path.join(DATA_PATH, 'test', class_name, f)\n",
        "                for f in os.listdir(os.path.join(DATA_PATH, 'test', class_name))\n",
        "                if f.endswith(('.jpg','.png'))],\n",
        "    'class': class_name\n",
        "}) for class_name in CLASSES])\n",
        "print(\"\\n--- Test Dataset Summary ---\")\n",
        "print(f\"Total test images: {len(test_df)}\")\n",
        "print(\"\\nClass distribution in test set:\")\n",
        "print(test_df['class'].value_counts())"
      ],
      "metadata": {
        "colab": {
          "base_uri": "https://localhost:8080/"
        },
        "id": "6YsLrL9WBRnC",
        "outputId": "6d8bec3b-4824-4b05-bf34-f6fe9836b14f"
      },
      "execution_count": 19,
      "outputs": [
        {
          "output_type": "stream",
          "name": "stdout",
          "text": [
            "\n",
            "--- Test Dataset Summary ---\n",
            "Total test images: 5945\n",
            "\n",
            "Class distribution in test set:\n",
            "class\n",
            "happy       1774\n",
            "sad         1247\n",
            "fear        1024\n",
            "angry        958\n",
            "surprise     831\n",
            "disgust      111\n",
            "Name: count, dtype: int64\n"
          ]
        }
      ]
    },
    {
      "cell_type": "code",
      "source": [
        "test_gen=ImageDataGenerator(rescale=1./255).flow_from_dataframe(\n",
        "    dataframe=test_df,\n",
        "    x_col='filename',\n",
        "    y_col='class',\n",
        "    target_size=(IMG_DIM, IMG_DIM),\n",
        "    color_mode='grayscale',\n",
        "    class_mode='categorical',\n",
        "    batch_size=BATCH_SIZE,\n",
        "    classes=CLASSES,\n",
        "    shuffle=False\n",
        ")"
      ],
      "metadata": {
        "colab": {
          "base_uri": "https://localhost:8080/"
        },
        "id": "4F0IyU50BbAr",
        "outputId": "aef7a605-2e56-447d-9923-6e17fb269c32"
      },
      "execution_count": 20,
      "outputs": [
        {
          "output_type": "stream",
          "name": "stdout",
          "text": [
            "Found 5945 validated image filenames belonging to 6 classes.\n"
          ]
        }
      ]
    },
    {
      "cell_type": "markdown",
      "source": [
        "Test Data accuracy and Loss"
      ],
      "metadata": {
        "id": "Dp5ebnR-GXjh"
      }
    },
    {
      "cell_type": "code",
      "source": [
        "test_loss,test_acc=model.evaluate(test_gen,verbose=1)\n",
        "print(f\"\\nTest Accuracy: {test_acc:.4f}, Test Loss: {test_loss:.4f}\")"
      ],
      "metadata": {
        "colab": {
          "base_uri": "https://localhost:8080/"
        },
        "id": "bB7U3j3zBdma",
        "outputId": "1e4e7a11-6b86-43d8-e20c-28405d02d7a0"
      },
      "execution_count": 21,
      "outputs": [
        {
          "output_type": "stream",
          "name": "stderr",
          "text": [
            "/usr/local/lib/python3.11/dist-packages/keras/src/trainers/data_adapters/py_dataset_adapter.py:121: UserWarning: Your `PyDataset` class should call `super().__init__(**kwargs)` in its constructor. `**kwargs` can include `workers`, `use_multiprocessing`, `max_queue_size`. Do not pass these arguments to `fit()`, as they will be ignored.\n",
            "  self._warn_if_super_not_called()\n"
          ]
        },
        {
          "output_type": "stream",
          "name": "stdout",
          "text": [
            "\u001b[1m186/186\u001b[0m \u001b[32m━━━━━━━━━━━━━━━━━━━━\u001b[0m\u001b[37m\u001b[0m \u001b[1m1128s\u001b[0m 6s/step - accuracy: 0.4772 - loss: 1.2213\n",
            "\n",
            "Test Accuracy: 0.6113, Test Loss: 0.9844\n"
          ]
        }
      ]
    }
  ]
}