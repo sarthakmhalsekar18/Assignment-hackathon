{
  "nbformat": 4,
  "nbformat_minor": 0,
  "metadata": {
    "colab": {
      "provenance": [],
      "authorship_tag": "ABX9TyNrEr53sSFLnl/UZof51EQf",
      "include_colab_link": true
    },
    "kernelspec": {
      "name": "python3",
      "display_name": "Python 3"
    },
    "language_info": {
      "name": "python"
    }
  },
  "cells": [
    {
      "cell_type": "markdown",
      "metadata": {
        "id": "view-in-github",
        "colab_type": "text"
      },
      "source": [
        "<a href=\"https://colab.research.google.com/github/sarthakmhalsekar18/Assignment-hackathon/blob/main/Project.ipynb\" target=\"_parent\"><img src=\"https://colab.research.google.com/assets/colab-badge.svg\" alt=\"Open In Colab\"/></a>"
      ]
    },
    {
      "cell_type": "markdown",
      "source": [
        "Mount Google Drive"
      ],
      "metadata": {
        "id": "nRZ9WJQbi4Ia"
      }
    },
    {
      "cell_type": "code",
      "source": [
        "from google.colab import drive\n",
        "import os\n",
        "if not os.path.exists('/content/drive'):\n",
        "  drive.mount('/content/drive')\n",
        "else:\n",
        "  print(\"Google Drive is already mounted at /content/drive\")"
      ],
      "metadata": {
        "colab": {
          "base_uri": "https://localhost:8080/"
        },
        "id": "lKY3-H5GkUFQ",
        "outputId": "d75f4603-a15d-4a28-ad9a-5635ddc0a470"
      },
      "execution_count": null,
      "outputs": [
        {
          "output_type": "stream",
          "name": "stdout",
          "text": [
            "Mounted at /content/drive\n"
          ]
        }
      ]
    },
    {
      "cell_type": "markdown",
      "source": [
        "Import Libraries"
      ],
      "metadata": {
        "id": "iLoltuG2rHI2"
      }
    },
    {
      "cell_type": "code",
      "source": [
        "import os\n",
        "import numpy as np\n",
        "import pandas as pd\n",
        "import matplotlib.pyplot as plt\n",
        "from sklearn.model_selection import train_test_split\n",
        "import tensorflow as tf\n",
        "from tensorflow.keras.models import Sequential\n",
        "from tensorflow.keras.layers import Conv2D, MaxPooling2D, BatchNormalization, Flatten, Dense\n",
        "from tensorflow.keras.optimizers import Adam\n",
        "from tensorflow.keras.preprocessing.image import ImageDataGenerator"
      ],
      "metadata": {
        "id": "wFrFSB3jk0Gw"
      },
      "execution_count": null,
      "outputs": []
    },
    {
      "cell_type": "markdown",
      "source": [
        "Federated Learning Setup"
      ],
      "metadata": {
        "id": "_3dTTc1XjFj7"
      }
    },
    {
      "cell_type": "code",
      "source": [
        "IMG_DIM=48\n",
        "CLASSES=['angry','disgust','fear','happy','sad','surprise']\n",
        "NUM_CLASSES=len(CLASSES)\n",
        "DATA_PATH='/content/drive/MyDrive/Datasets/sarthak dataset'"
      ],
      "metadata": {
        "id": "IF9DNUDUlRn2"
      },
      "execution_count": null,
      "outputs": []
    },
    {
      "cell_type": "code",
      "source": [
        "NUM_CLIENTS=5\n",
        "CLIENT_EPOCHS=5\n",
        "NUM_ROUNDS=10\n",
        "BATCH_SIZE=32"
      ],
      "metadata": {
        "id": "-oJxQFhgpfGc"
      },
      "execution_count": null,
      "outputs": []
    },
    {
      "cell_type": "markdown",
      "source": [
        "Load and Preprocess Dataset"
      ],
      "metadata": {
        "id": "a0Wl4jGojtMQ"
      }
    },
    {
      "cell_type": "code",
      "source": [
        "df=pd.concat([pd.DataFrame({\n",
        "    'filename':[os.path.join(DATA_PATH,'train',class_name,f)\n",
        "                for f in os.listdir(os.path.join(DATA_PATH,'train',class_name))\n",
        "                if f.endswith(('.jpg','.png'))],\n",
        "    'class':class_name\n",
        "})for class_name in CLASSES])\n",
        "print(df.head(2))"
      ],
      "metadata": {
        "colab": {
          "base_uri": "https://localhost:8080/"
        },
        "id": "UL3wspS5qZqm",
        "outputId": "ff9bfc1b-9dad-4fa0-86ba-91bbc753ccec"
      },
      "execution_count": null,
      "outputs": [
        {
          "output_type": "stream",
          "name": "stdout",
          "text": [
            "                                            filename  class\n",
            "0  /content/drive/MyDrive/Datasets/sarthak datase...  angry\n",
            "1  /content/drive/MyDrive/Datasets/sarthak datase...  angry\n"
          ]
        }
      ]
    },
    {
      "cell_type": "code",
      "source": [
        "df_train,df_val=train_test_split(df,test_size=0.3,random_state=42)"
      ],
      "metadata": {
        "id": "JfCu7vJarekp"
      },
      "execution_count": null,
      "outputs": []
    },
    {
      "cell_type": "code",
      "source": [
        "print(\"---Dataset Summary---\")\n",
        "print(f\"Total images:{len(df)}\")\n",
        "print(f\"Training images(70%):{len(df_train)}\")\n",
        "print(f\"Validation images30%):{len(df_val)}\")"
      ],
      "metadata": {
        "colab": {
          "base_uri": "https://localhost:8080/"
        },
        "id": "sYBmhPhBrfy-",
        "outputId": "5c21b7ba-0ffc-48cc-a5bd-dda03843b26c"
      },
      "execution_count": null,
      "outputs": [
        {
          "output_type": "stream",
          "name": "stdout",
          "text": [
            "---Dataset Summary---\n",
            "Total images:23754\n",
            "Training images(70%):16627\n",
            "Validation images30%):7127\n"
          ]
        }
      ]
    },
    {
      "cell_type": "markdown",
      "source": [
        " Distribute Data to Clients"
      ],
      "metadata": {
        "id": "SKro31B1jx1B"
      }
    },
    {
      "cell_type": "code",
      "source": [
        "client_dfs = []\n",
        "remaining_df = df_train.copy()\n",
        "\n",
        "for i in range(NUM_CLIENTS):\n",
        "    client_share = len(df_train) // NUM_CLIENTS\n",
        "    if i == NUM_CLIENTS - 1:\n",
        "        client_df = remaining_df.copy()\n",
        "    else:\n",
        "        client_df, remaining_df = train_test_split(\n",
        "            remaining_df,\n",
        "            train_size=client_share,\n",
        "            stratify=remaining_df['class'],\n",
        "            random_state=42\n",
        "        )\n",
        "    client_dfs.append(client_df)\n",
        "    print(f\"\\nClient {i} received {len(client_df)} images:\")\n",
        "    print(client_df['class'].value_counts())"
      ],
      "metadata": {
        "id": "7qTOXNWabsdW",
        "outputId": "8fb4097d-ff8f-458f-9c12-157f64a77ed5",
        "colab": {
          "base_uri": "https://localhost:8080/"
        }
      },
      "execution_count": null,
      "outputs": [
        {
          "output_type": "stream",
          "name": "stdout",
          "text": [
            "\n",
            "Client 0 received 3325 images:\n",
            "class\n",
            "happy       1004\n",
            "sad          672\n",
            "fear         577\n",
            "angry        562\n",
            "surprise     450\n",
            "disgust       60\n",
            "Name: count, dtype: int64\n",
            "\n",
            "Client 1 received 3325 images:\n",
            "class\n",
            "happy       1004\n",
            "sad          672\n",
            "fear         577\n",
            "angry        562\n",
            "surprise     450\n",
            "disgust       60\n",
            "Name: count, dtype: int64\n",
            "\n",
            "Client 2 received 3325 images:\n",
            "class\n",
            "happy       1004\n",
            "sad          671\n",
            "fear         577\n",
            "angry        562\n",
            "surprise     451\n",
            "disgust       60\n",
            "Name: count, dtype: int64\n",
            "\n",
            "Client 3 received 3325 images:\n",
            "class\n",
            "happy       1005\n",
            "sad          672\n",
            "fear         577\n",
            "angry        561\n",
            "surprise     450\n",
            "disgust       60\n",
            "Name: count, dtype: int64\n",
            "\n",
            "Client 4 received 3327 images:\n",
            "class\n",
            "happy       1005\n",
            "sad          672\n",
            "fear         578\n",
            "angry        562\n",
            "surprise     451\n",
            "disgust       59\n",
            "Name: count, dtype: int64\n"
          ]
        }
      ]
    },
    {
      "cell_type": "markdown",
      "source": [
        "Data Generators for Clients"
      ],
      "metadata": {
        "id": "d7KfEhKhj594"
      }
    },
    {
      "cell_type": "code",
      "source": [
        "train_clients={}\n",
        "for i, df in enumerate(client_dfs):\n",
        "    train_clients[f'client_{i}']=ImageDataGenerator(\n",
        "        rescale=1./255,\n",
        "        rotation_range=10,\n",
        "        width_shift_range=0.1,\n",
        "        height_shift_range=0.1,\n",
        "        horizontal_flip=True,\n",
        "        zoom_range=0.1\n",
        "    ).flow_from_dataframe(\n",
        "        dataframe=df,\n",
        "        x_col='filename',\n",
        "        y_col='class',\n",
        "        target_size=(IMG_DIM, IMG_DIM),\n",
        "        color_mode='grayscale',\n",
        "        class_mode='categorical',\n",
        "        batch_size=BATCH_SIZE,\n",
        "        classes=CLASSES,\n",
        "        shuffle=True\n",
        "    )"
      ],
      "metadata": {
        "id": "VwUF2KkcbxI0",
        "outputId": "5395d6dd-43c3-43e8-b81d-48477da5e00e",
        "colab": {
          "base_uri": "https://localhost:8080/"
        }
      },
      "execution_count": null,
      "outputs": [
        {
          "output_type": "stream",
          "name": "stdout",
          "text": [
            "Found 3325 validated image filenames belonging to 6 classes.\n",
            "Found 3325 validated image filenames belonging to 6 classes.\n",
            "Found 3325 validated image filenames belonging to 6 classes.\n",
            "Found 3325 validated image filenames belonging to 6 classes.\n",
            "Found 3327 validated image filenames belonging to 6 classes.\n"
          ]
        }
      ]
    },
    {
      "cell_type": "markdown",
      "source": [
        "Validation Data Generator"
      ],
      "metadata": {
        "id": "-Gr8yB3Zj80C"
      }
    },
    {
      "cell_type": "code",
      "source": [
        "val_gen=ImageDataGenerator(rescale=1./255).flow_from_dataframe(\n",
        "    dataframe=df_val,\n",
        "    x_col='filename',\n",
        "    y_col='class',\n",
        "    target_size=(IMG_DIM, IMG_DIM),\n",
        "    color_mode='grayscale',\n",
        "    class_mode='categorical',\n",
        "    batch_size=BATCH_SIZE,\n",
        "    classes=CLASSES,\n",
        "    shuffle=False\n",
        ")\n",
        "print(f\"Training clients:{len(train_clients)}\")\n",
        "print(f\"Validation samples:{len(df_val)}\")"
      ],
      "metadata": {
        "id": "aTRDkDTpeCo9",
        "outputId": "d0658233-8769-43c6-e493-15c156e6f9f8",
        "colab": {
          "base_uri": "https://localhost:8080/"
        }
      },
      "execution_count": null,
      "outputs": [
        {
          "output_type": "stream",
          "name": "stdout",
          "text": [
            "Found 7127 validated image filenames belonging to 6 classes.\n",
            "Training clients:5\n",
            "Validation samples:7127\n"
          ]
        }
      ]
    },
    {
      "cell_type": "markdown",
      "source": [
        "CNN MODEL"
      ],
      "metadata": {
        "id": "6Bil5KgIj-8R"
      }
    },
    {
      "cell_type": "code",
      "source": [
        "def create_model():\n",
        "    model = Sequential([\n",
        "        Conv2D(32, (3, 3), padding='same', input_shape=(IMG_DIM, IMG_DIM, 1), activation='relu'),\n",
        "        MaxPooling2D((2, 2)),\n",
        "        BatchNormalization(),\n",
        "        Conv2D(64, (3, 3), padding='same', activation='relu'),\n",
        "        MaxPooling2D((2, 2)),\n",
        "        BatchNormalization(),\n",
        "        Conv2D(64, (3, 3), padding='same', activation='relu'),\n",
        "        MaxPooling2D((2, 2)),\n",
        "        BatchNormalization(),\n",
        "        Conv2D(128, (3, 3), padding='same', activation='relu', name='last_conv'),\n",
        "        MaxPooling2D((2, 2)),\n",
        "        BatchNormalization(),\n",
        "        Flatten(),\n",
        "        Dense(128, activation='relu'),\n",
        "        Dense(NUM_CLASSES, activation='softmax')\n",
        "    ])\n",
        "    model.compile(optimizer=Adam(0.001), loss='categorical_crossentropy', metrics=['accuracy'])\n",
        "    return model\n",
        "\n",
        "model = create_model()"
      ],
      "metadata": {
        "colab": {
          "base_uri": "https://localhost:8080/"
        },
        "id": "o3Dx6EdIcp66",
        "outputId": "6e9836e1-7e14-4324-cefd-632cb8e07407"
      },
      "execution_count": null,
      "outputs": [
        {
          "output_type": "stream",
          "name": "stderr",
          "text": [
            "/usr/local/lib/python3.11/dist-packages/keras/src/layers/convolutional/base_conv.py:107: UserWarning: Do not pass an `input_shape`/`input_dim` argument to a layer. When using Sequential models, prefer using an `Input(shape)` object as the first layer in the model instead.\n",
            "  super().__init__(activity_regularizer=activity_regularizer, **kwargs)\n"
          ]
        }
      ]
    },
    {
      "cell_type": "markdown",
      "source": [
        "Federated Training Loop"
      ],
      "metadata": {
        "id": "5xkEYt3bkGCg"
      }
    },
    {
      "cell_type": "code",
      "source": [
        "round_acc, round_loss = [], []\n",
        "global_weights = model.get_weights()\n",
        "\n",
        "for round in range(NUM_ROUNDS):\n",
        "    print(f\"\\n=== Round {round+1}/{NUM_ROUNDS} ===\")\n",
        "    client_weights = []\n",
        "\n",
        "    # Client updates\n",
        "    for client_name, gen in train_clients.items():\n",
        "        print(f\"\\nTraining {client_name}...\")\n",
        "        client_model = create_model()\n",
        "        client_model.set_weights(global_weights)\n",
        "        client_model.fit(gen, epochs=CLIENT_EPOCHS, verbose=1)\n",
        "        client_weights.append(client_model.get_weights())\n",
        "\n",
        "    # Federated averaging\n",
        "    global_weights = [np.mean([w[i] for w in client_weights], axis=0) for i in range(len(global_weights))]\n",
        "    model.set_weights(global_weights)\n",
        "\n",
        "    # Evaluation\n",
        "    val_loss, val_acc = model.evaluate(val_gen, verbose=0)\n",
        "    round_acc.append(val_acc)\n",
        "    round_loss.append(val_loss)\n",
        "    print(f\"\\n[Validation]Global Model - Accuracy: {val_acc:.4f}, Loss: {val_loss:.4f}\")"
      ],
      "metadata": {
        "id": "w1-F9oUVdFaq",
        "outputId": "05eeecd6-060d-445e-9e6f-db893016301c",
        "colab": {
          "base_uri": "https://localhost:8080/"
        }
      },
      "execution_count": null,
      "outputs": [
        {
          "metadata": {
            "tags": null
          },
          "name": "stdout",
          "output_type": "stream",
          "text": [
            "\n",
            "=== Round 1/10 ===\n",
            "\n",
            "Training client_0...\n",
            "Epoch 1/5\n",
            "\u001b[1m104/104\u001b[0m \u001b[32m━━━━━━━━━━━━━━━━━━━━\u001b[0m\u001b[37m\u001b[0m \u001b[1m566s\u001b[0m 5s/step - accuracy: 0.2634 - loss: 1.9321\n",
            "Epoch 2/5\n",
            "\u001b[1m104/104\u001b[0m \u001b[32m━━━━━━━━━━━━━━━━━━━━\u001b[0m\u001b[37m\u001b[0m \u001b[1m28s\u001b[0m 264ms/step - accuracy: 0.3148 - loss: 1.6160\n",
            "Epoch 3/5\n",
            "\u001b[1m104/104\u001b[0m \u001b[32m━━━━━━━━━━━━━━━━━━━━\u001b[0m\u001b[37m\u001b[0m \u001b[1m40s\u001b[0m 259ms/step - accuracy: 0.3717 - loss: 1.5105\n",
            "Epoch 4/5\n",
            "\u001b[1m104/104\u001b[0m \u001b[32m━━━━━━━━━━━━━━━━━━━━\u001b[0m\u001b[37m\u001b[0m \u001b[1m27s\u001b[0m 263ms/step - accuracy: 0.4170 - loss: 1.4298\n",
            "Epoch 5/5\n",
            "\u001b[1m104/104\u001b[0m \u001b[32m━━━━━━━━━━━━━━━━━━━━\u001b[0m\u001b[37m\u001b[0m \u001b[1m41s\u001b[0m 262ms/step - accuracy: 0.4253 - loss: 1.3986\n",
            "\n",
            "Training client_1...\n",
            "Epoch 1/5\n",
            "\u001b[1m104/104\u001b[0m \u001b[32m━━━━━━━━━━━━━━━━━━━━\u001b[0m\u001b[37m\u001b[0m \u001b[1m776s\u001b[0m 7s/step - accuracy: 0.2837 - loss: 1.9183\n",
            "Epoch 2/5\n",
            "\u001b[1m104/104\u001b[0m \u001b[32m━━━━━━━━━━━━━━━━━━━━\u001b[0m\u001b[37m\u001b[0m \u001b[1m27s\u001b[0m 261ms/step - accuracy: 0.3253 - loss: 1.5972\n",
            "Epoch 3/5\n",
            "\u001b[1m104/104\u001b[0m \u001b[32m━━━━━━━━━━━━━━━━━━━━\u001b[0m\u001b[37m\u001b[0m \u001b[1m41s\u001b[0m 263ms/step - accuracy: 0.3794 - loss: 1.4845\n",
            "Epoch 4/5\n",
            "\u001b[1m104/104\u001b[0m \u001b[32m━━━━━━━━━━━━━━━━━━━━\u001b[0m\u001b[37m\u001b[0m \u001b[1m28s\u001b[0m 264ms/step - accuracy: 0.4115 - loss: 1.4449\n",
            "Epoch 5/5\n",
            "\u001b[1m104/104\u001b[0m \u001b[32m━━━━━━━━━━━━━━━━━━━━\u001b[0m\u001b[37m\u001b[0m \u001b[1m27s\u001b[0m 262ms/step - accuracy: 0.4380 - loss: 1.3866\n",
            "\n",
            "Training client_2...\n",
            "Epoch 1/5\n",
            "\u001b[1m104/104\u001b[0m \u001b[32m━━━━━━━━━━━━━━━━━━━━\u001b[0m\u001b[37m\u001b[0m \u001b[1m774s\u001b[0m 7s/step - accuracy: 0.2573 - loss: 1.9595\n",
            "Epoch 2/5\n",
            "\u001b[1m104/104\u001b[0m \u001b[32m━━━━━━━━━━━━━━━━━━━━\u001b[0m\u001b[37m\u001b[0m \u001b[1m27s\u001b[0m 261ms/step - accuracy: 0.3439 - loss: 1.5939\n",
            "Epoch 3/5\n",
            "\u001b[1m104/104\u001b[0m \u001b[32m━━━━━━━━━━━━━━━━━━━━\u001b[0m\u001b[37m\u001b[0m \u001b[1m27s\u001b[0m 261ms/step - accuracy: 0.3726 - loss: 1.5203\n",
            "Epoch 4/5\n",
            "\u001b[1m104/104\u001b[0m \u001b[32m━━━━━━━━━━━━━━━━━━━━\u001b[0m\u001b[37m\u001b[0m \u001b[1m27s\u001b[0m 261ms/step - accuracy: 0.4130 - loss: 1.4782\n",
            "Epoch 5/5\n",
            "\u001b[1m104/104\u001b[0m \u001b[32m━━━━━━━━━━━━━━━━━━━━\u001b[0m\u001b[37m\u001b[0m \u001b[1m27s\u001b[0m 262ms/step - accuracy: 0.4262 - loss: 1.3844\n",
            "\n",
            "Training client_3...\n",
            "Epoch 1/5\n",
            "\u001b[1m104/104\u001b[0m \u001b[32m━━━━━━━━━━━━━━━━━━━━\u001b[0m\u001b[37m\u001b[0m \u001b[1m791s\u001b[0m 8s/step - accuracy: 0.2777 - loss: 1.9673\n",
            "Epoch 2/5\n",
            "\u001b[1m104/104\u001b[0m \u001b[32m━━━━━━━━━━━━━━━━━━━━\u001b[0m\u001b[37m\u001b[0m \u001b[1m41s\u001b[0m 249ms/step - accuracy: 0.3560 - loss: 1.5951\n",
            "Epoch 3/5\n",
            "\u001b[1m104/104\u001b[0m \u001b[32m━━━━━━━━━━━━━━━━━━━━\u001b[0m\u001b[37m\u001b[0m \u001b[1m42s\u001b[0m 258ms/step - accuracy: 0.3831 - loss: 1.5379\n",
            "Epoch 4/5\n",
            "\u001b[1m104/104\u001b[0m \u001b[32m━━━━━━━━━━━━━━━━━━━━\u001b[0m\u001b[37m\u001b[0m \u001b[1m41s\u001b[0m 257ms/step - accuracy: 0.3960 - loss: 1.4863\n",
            "Epoch 5/5\n",
            "\u001b[1m104/104\u001b[0m \u001b[32m━━━━━━━━━━━━━━━━━━━━\u001b[0m\u001b[37m\u001b[0m \u001b[1m41s\u001b[0m 256ms/step - accuracy: 0.4463 - loss: 1.3998\n",
            "\n",
            "Training client_4...\n",
            "Epoch 1/5\n",
            "\u001b[1m104/104\u001b[0m \u001b[32m━━━━━━━━━━━━━━━━━━━━\u001b[0m\u001b[37m\u001b[0m \u001b[1m787s\u001b[0m 8s/step - accuracy: 0.2514 - loss: 1.9952\n",
            "Epoch 2/5\n",
            "\u001b[1m104/104\u001b[0m \u001b[32m━━━━━━━━━━━━━━━━━━━━\u001b[0m\u001b[37m\u001b[0m \u001b[1m28s\u001b[0m 263ms/step - accuracy: 0.3537 - loss: 1.6005\n",
            "Epoch 3/5\n",
            "\u001b[1m104/104\u001b[0m \u001b[32m━━━━━━━━━━━━━━━━━━━━\u001b[0m\u001b[37m\u001b[0m \u001b[1m29s\u001b[0m 276ms/step - accuracy: 0.3811 - loss: 1.5297\n",
            "Epoch 4/5\n",
            "\u001b[1m104/104\u001b[0m \u001b[32m━━━━━━━━━━━━━━━━━━━━\u001b[0m\u001b[37m\u001b[0m \u001b[1m27s\u001b[0m 261ms/step - accuracy: 0.3967 - loss: 1.4651\n",
            "Epoch 5/5\n",
            "\u001b[1m104/104\u001b[0m \u001b[32m━━━━━━━━━━━━━━━━━━━━\u001b[0m\u001b[37m\u001b[0m \u001b[1m41s\u001b[0m 259ms/step - accuracy: 0.4167 - loss: 1.4312\n",
            "\n",
            "[Validation]Global Model - Accuracy: 0.3097, Loss: 1.7753\n",
            "\n",
            "=== Round 2/10 ===\n",
            "\n",
            "Training client_0...\n",
            "Epoch 1/5\n",
            "\u001b[1m104/104\u001b[0m \u001b[32m━━━━━━━━━━━━━━━━━━━━\u001b[0m\u001b[37m\u001b[0m \u001b[1m31s\u001b[0m 256ms/step - accuracy: 0.3736 - loss: 1.5220\n",
            "Epoch 2/5\n",
            "\u001b[1m104/104\u001b[0m \u001b[32m━━━━━━━━━━━━━━━━━━━━\u001b[0m\u001b[37m\u001b[0m \u001b[1m42s\u001b[0m 263ms/step - accuracy: 0.4354 - loss: 1.3965\n",
            "Epoch 3/5\n",
            "\u001b[1m104/104\u001b[0m \u001b[32m━━━━━━━━━━━━━━━━━━━━\u001b[0m\u001b[37m\u001b[0m \u001b[1m27s\u001b[0m 262ms/step - accuracy: 0.4533 - loss: 1.3320\n",
            "Epoch 4/5\n",
            "\u001b[1m104/104\u001b[0m \u001b[32m━━━━━━━━━━━━━━━━━━━━\u001b[0m\u001b[37m\u001b[0m \u001b[1m27s\u001b[0m 262ms/step - accuracy: 0.4895 - loss: 1.2868\n",
            "Epoch 5/5\n",
            "\u001b[1m104/104\u001b[0m \u001b[32m━━━━━━━━━━━━━━━━━━━━\u001b[0m\u001b[37m\u001b[0m \u001b[1m28s\u001b[0m 264ms/step - accuracy: 0.5022 - loss: 1.2596\n",
            "\n",
            "Training client_1...\n",
            "Epoch 1/5\n",
            "\u001b[1m104/104\u001b[0m \u001b[32m━━━━━━━━━━━━━━━━━━━━\u001b[0m\u001b[37m\u001b[0m \u001b[1m31s\u001b[0m 263ms/step - accuracy: 0.3926 - loss: 1.4709\n",
            "Epoch 2/5\n",
            "\u001b[1m104/104\u001b[0m \u001b[32m━━━━━━━━━━━━━━━━━━━━\u001b[0m\u001b[37m\u001b[0m \u001b[1m27s\u001b[0m 263ms/step - accuracy: 0.4529 - loss: 1.3801\n",
            "Epoch 3/5\n",
            "\u001b[1m104/104\u001b[0m \u001b[32m━━━━━━━━━━━━━━━━━━━━\u001b[0m\u001b[37m\u001b[0m \u001b[1m27s\u001b[0m 255ms/step - accuracy: 0.4644 - loss: 1.3232\n",
            "Epoch 4/5\n",
            "\u001b[1m104/104\u001b[0m \u001b[32m━━━━━━━━━━━━━━━━━━━━\u001b[0m\u001b[37m\u001b[0m \u001b[1m26s\u001b[0m 249ms/step - accuracy: 0.4919 - loss: 1.2516\n",
            "Epoch 5/5\n",
            "\u001b[1m104/104\u001b[0m \u001b[32m━━━━━━━━━━━━━━━━━━━━\u001b[0m\u001b[37m\u001b[0m \u001b[1m27s\u001b[0m 262ms/step - accuracy: 0.5277 - loss: 1.2285\n",
            "\n",
            "Training client_2...\n",
            "Epoch 1/5\n",
            "\u001b[1m104/104\u001b[0m \u001b[32m━━━━━━━━━━━━━━━━━━━━\u001b[0m\u001b[37m\u001b[0m \u001b[1m31s\u001b[0m 250ms/step - accuracy: 0.3852 - loss: 1.5094\n",
            "Epoch 2/5\n",
            "\u001b[1m104/104\u001b[0m \u001b[32m━━━━━━━━━━━━━━━━━━━━\u001b[0m\u001b[37m\u001b[0m \u001b[1m41s\u001b[0m 254ms/step - accuracy: 0.4297 - loss: 1.4018\n",
            "Epoch 3/5\n",
            "\u001b[1m104/104\u001b[0m \u001b[32m━━━━━━━━━━━━━━━━━━━━\u001b[0m\u001b[37m\u001b[0m \u001b[1m27s\u001b[0m 252ms/step - accuracy: 0.4689 - loss: 1.3640\n",
            "Epoch 4/5\n",
            "\u001b[1m104/104\u001b[0m \u001b[32m━━━━━━━━━━━━━━━━━━━━\u001b[0m\u001b[37m\u001b[0m \u001b[1m27s\u001b[0m 261ms/step - accuracy: 0.4875 - loss: 1.3106\n",
            "Epoch 5/5\n",
            "\u001b[1m104/104\u001b[0m \u001b[32m━━━━━━━━━━━━━━━━━━━━\u001b[0m\u001b[37m\u001b[0m \u001b[1m27s\u001b[0m 262ms/step - accuracy: 0.4854 - loss: 1.2744\n",
            "\n",
            "Training client_3...\n",
            "Epoch 1/5\n",
            "\u001b[1m104/104\u001b[0m \u001b[32m━━━━━━━━━━━━━━━━━━━━\u001b[0m\u001b[37m\u001b[0m \u001b[1m31s\u001b[0m 252ms/step - accuracy: 0.3730 - loss: 1.5068\n",
            "Epoch 2/5\n",
            "\u001b[1m104/104\u001b[0m \u001b[32m━━━━━━━━━━━━━━━━━━━━\u001b[0m\u001b[37m\u001b[0m \u001b[1m40s\u001b[0m 246ms/step - accuracy: 0.4263 - loss: 1.3892\n",
            "Epoch 3/5\n",
            "\u001b[1m104/104\u001b[0m \u001b[32m━━━━━━━━━━━━━━━━━━━━\u001b[0m\u001b[37m\u001b[0m \u001b[1m27s\u001b[0m 262ms/step - accuracy: 0.4696 - loss: 1.3347\n",
            "Epoch 4/5\n",
            "\u001b[1m104/104\u001b[0m \u001b[32m━━━━━━━━━━━━━━━━━━━━\u001b[0m\u001b[37m\u001b[0m \u001b[1m27s\u001b[0m 262ms/step - accuracy: 0.4921 - loss: 1.2666\n",
            "Epoch 5/5\n",
            "\u001b[1m104/104\u001b[0m \u001b[32m━━━━━━━━━━━━━━━━━━━━\u001b[0m\u001b[37m\u001b[0m \u001b[1m27s\u001b[0m 262ms/step - accuracy: 0.5189 - loss: 1.2096\n",
            "\n",
            "Training client_4...\n",
            "Epoch 1/5\n",
            "\u001b[1m104/104\u001b[0m \u001b[32m━━━━━━━━━━━━━━━━━━━━\u001b[0m\u001b[37m\u001b[0m \u001b[1m32s\u001b[0m 262ms/step - accuracy: 0.4006 - loss: 1.5069\n",
            "Epoch 2/5\n",
            "\u001b[1m104/104\u001b[0m \u001b[32m━━━━━━━━━━━━━━━━━━━━\u001b[0m\u001b[37m\u001b[0m \u001b[1m27s\u001b[0m 259ms/step - accuracy: 0.4565 - loss: 1.3663\n",
            "Epoch 3/5\n",
            "\u001b[1m104/104\u001b[0m \u001b[32m━━━━━━━━━━━━━━━━━━━━\u001b[0m\u001b[37m\u001b[0m \u001b[1m28s\u001b[0m 264ms/step - accuracy: 0.4713 - loss: 1.3253\n",
            "Epoch 4/5\n",
            "\u001b[1m104/104\u001b[0m \u001b[32m━━━━━━━━━━━━━━━━━━━━\u001b[0m\u001b[37m\u001b[0m \u001b[1m27s\u001b[0m 263ms/step - accuracy: 0.4931 - loss: 1.2987\n",
            "Epoch 5/5\n",
            "\u001b[1m104/104\u001b[0m \u001b[32m━━━━━━━━━━━━━━━━━━━━\u001b[0m\u001b[37m\u001b[0m \u001b[1m27s\u001b[0m 257ms/step - accuracy: 0.4913 - loss: 1.2705\n",
            "\n",
            "[Validation]Global Model - Accuracy: 0.4867, Loss: 1.2719\n",
            "\n",
            "=== Round 3/10 ===\n",
            "\n",
            "Training client_0...\n",
            "Epoch 1/5\n",
            "\u001b[1m104/104\u001b[0m \u001b[32m━━━━━━━━━━━━━━━━━━━━\u001b[0m\u001b[37m\u001b[0m \u001b[1m31s\u001b[0m 266ms/step - accuracy: 0.4770 - loss: 1.3012\n",
            "Epoch 2/5\n",
            "\u001b[1m104/104\u001b[0m \u001b[32m━━━━━━━━━━━━━━━━━━━━\u001b[0m\u001b[37m\u001b[0m \u001b[1m27s\u001b[0m 263ms/step - accuracy: 0.4948 - loss: 1.2440\n",
            "Epoch 3/5\n",
            "\u001b[1m104/104\u001b[0m \u001b[32m━━━━━━━━━━━━━━━━━━━━\u001b[0m\u001b[37m\u001b[0m \u001b[1m28s\u001b[0m 268ms/step - accuracy: 0.5187 - loss: 1.2217\n",
            "Epoch 4/5\n",
            "\u001b[1m104/104\u001b[0m \u001b[32m━━━━━━━━━━━━━━━━━━━━\u001b[0m\u001b[37m\u001b[0m \u001b[1m27s\u001b[0m 260ms/step - accuracy: 0.5357 - loss: 1.1675\n",
            "Epoch 5/5\n",
            "\u001b[1m104/104\u001b[0m \u001b[32m━━━━━━━━━━━━━━━━━━━━\u001b[0m\u001b[37m\u001b[0m \u001b[1m27s\u001b[0m 259ms/step - accuracy: 0.5480 - loss: 1.1226\n",
            "\n",
            "Training client_1...\n",
            "Epoch 1/5\n",
            "\u001b[1m104/104\u001b[0m \u001b[32m━━━━━━━━━━━━━━━━━━━━\u001b[0m\u001b[37m\u001b[0m \u001b[1m31s\u001b[0m 264ms/step - accuracy: 0.4742 - loss: 1.2885\n",
            "Epoch 2/5\n",
            "\u001b[1m104/104\u001b[0m \u001b[32m━━━━━━━━━━━━━━━━━━━━\u001b[0m\u001b[37m\u001b[0m \u001b[1m28s\u001b[0m 267ms/step - accuracy: 0.5286 - loss: 1.1904\n",
            "Epoch 3/5\n",
            "\u001b[1m104/104\u001b[0m \u001b[32m━━━━━━━━━━━━━━━━━━━━\u001b[0m\u001b[37m\u001b[0m \u001b[1m28s\u001b[0m 266ms/step - accuracy: 0.5446 - loss: 1.1353\n",
            "Epoch 4/5\n",
            "\u001b[1m104/104\u001b[0m \u001b[32m━━━━━━━━━━━━━━━━━━━━\u001b[0m\u001b[37m\u001b[0m \u001b[1m41s\u001b[0m 263ms/step - accuracy: 0.5425 - loss: 1.1275\n",
            "Epoch 5/5\n",
            "\u001b[1m104/104\u001b[0m \u001b[32m━━━━━━━━━━━━━━━━━━━━\u001b[0m\u001b[37m\u001b[0m \u001b[1m26s\u001b[0m 249ms/step - accuracy: 0.5663 - loss: 1.0846\n",
            "\n",
            "Training client_2...\n",
            "Epoch 1/5\n",
            "\u001b[1m104/104\u001b[0m \u001b[32m━━━━━━━━━━━━━━━━━━━━\u001b[0m\u001b[37m\u001b[0m \u001b[1m32s\u001b[0m 267ms/step - accuracy: 0.4713 - loss: 1.2758\n",
            "Epoch 2/5\n",
            "\u001b[1m104/104\u001b[0m \u001b[32m━━━━━━━━━━━━━━━━━━━━\u001b[0m\u001b[37m\u001b[0m \u001b[1m41s\u001b[0m 264ms/step - accuracy: 0.5147 - loss: 1.2218\n",
            "Epoch 3/5\n",
            "\u001b[1m104/104\u001b[0m \u001b[32m━━━━━━━━━━━━━━━━━━━━\u001b[0m\u001b[37m\u001b[0m \u001b[1m40s\u001b[0m 258ms/step - accuracy: 0.5217 - loss: 1.2003\n",
            "Epoch 4/5\n",
            "\u001b[1m104/104\u001b[0m \u001b[32m━━━━━━━━━━━━━━━━━━━━\u001b[0m\u001b[37m\u001b[0m \u001b[1m27s\u001b[0m 256ms/step - accuracy: 0.5523 - loss: 1.1445\n",
            "Epoch 5/5\n",
            "\u001b[1m104/104\u001b[0m \u001b[32m━━━━━━━━━━━━━━━━━━━━\u001b[0m\u001b[37m\u001b[0m \u001b[1m28s\u001b[0m 264ms/step - accuracy: 0.5516 - loss: 1.1171\n",
            "\n",
            "Training client_3...\n",
            "Epoch 1/5\n",
            "\u001b[1m104/104\u001b[0m \u001b[32m━━━━━━━━━━━━━━━━━━━━\u001b[0m\u001b[37m\u001b[0m \u001b[1m31s\u001b[0m 249ms/step - accuracy: 0.4955 - loss: 1.2582\n",
            "Epoch 2/5\n",
            "\u001b[1m104/104\u001b[0m \u001b[32m━━━━━━━━━━━━━━━━━━━━\u001b[0m\u001b[37m\u001b[0m \u001b[1m27s\u001b[0m 259ms/step - accuracy: 0.5008 - loss: 1.2267\n",
            "Epoch 3/5\n",
            "\u001b[1m104/104\u001b[0m \u001b[32m━━━━━━━━━━━━━━━━━━━━\u001b[0m\u001b[37m\u001b[0m \u001b[1m28s\u001b[0m 270ms/step - accuracy: 0.5458 - loss: 1.1683\n",
            "Epoch 4/5\n",
            "\u001b[1m104/104\u001b[0m \u001b[32m━━━━━━━━━━━━━━━━━━━━\u001b[0m\u001b[37m\u001b[0m \u001b[1m28s\u001b[0m 266ms/step - accuracy: 0.5289 - loss: 1.1603\n",
            "Epoch 5/5\n",
            "\u001b[1m104/104\u001b[0m \u001b[32m━━━━━━━━━━━━━━━━━━━━\u001b[0m\u001b[37m\u001b[0m \u001b[1m28s\u001b[0m 269ms/step - accuracy: 0.5437 - loss: 1.1260\n",
            "\n",
            "Training client_4...\n",
            "Epoch 1/5\n",
            "\u001b[1m104/104\u001b[0m \u001b[32m━━━━━━━━━━━━━━━━━━━━\u001b[0m\u001b[37m\u001b[0m \u001b[1m31s\u001b[0m 265ms/step - accuracy: 0.5034 - loss: 1.2873\n",
            "Epoch 2/5\n",
            "\u001b[1m104/104\u001b[0m \u001b[32m━━━━━━━━━━━━━━━━━━━━\u001b[0m\u001b[37m\u001b[0m \u001b[1m27s\u001b[0m 261ms/step - accuracy: 0.5205 - loss: 1.2207\n",
            "Epoch 3/5\n",
            "\u001b[1m104/104\u001b[0m \u001b[32m━━━━━━━━━━━━━━━━━━━━\u001b[0m\u001b[37m\u001b[0m \u001b[1m27s\u001b[0m 263ms/step - accuracy: 0.5566 - loss: 1.1524\n",
            "Epoch 4/5\n",
            "\u001b[1m104/104\u001b[0m \u001b[32m━━━━━━━━━━━━━━━━━━━━\u001b[0m\u001b[37m\u001b[0m \u001b[1m28s\u001b[0m 265ms/step - accuracy: 0.5579 - loss: 1.1566\n",
            "Epoch 5/5\n",
            "\u001b[1m104/104\u001b[0m \u001b[32m━━━━━━━━━━━━━━━━━━━━\u001b[0m\u001b[37m\u001b[0m \u001b[1m27s\u001b[0m 257ms/step - accuracy: 0.5769 - loss: 1.0992\n",
            "\n",
            "[Validation]Global Model - Accuracy: 0.5378, Loss: 1.1646\n",
            "\n",
            "=== Round 4/10 ===\n",
            "\n",
            "Training client_0...\n",
            "Epoch 1/5\n",
            "\u001b[1m104/104\u001b[0m \u001b[32m━━━━━━━━━━━━━━━━━━━━\u001b[0m\u001b[37m\u001b[0m \u001b[1m32s\u001b[0m 257ms/step - accuracy: 0.5495 - loss: 1.1562\n",
            "Epoch 2/5\n",
            "\u001b[1m104/104\u001b[0m \u001b[32m━━━━━━━━━━━━━━━━━━━━\u001b[0m\u001b[37m\u001b[0m \u001b[1m27s\u001b[0m 260ms/step - accuracy: 0.5473 - loss: 1.1435\n",
            "Epoch 3/5\n",
            "\u001b[1m104/104\u001b[0m \u001b[32m━━━━━━━━━━━━━━━━━━━━\u001b[0m\u001b[37m\u001b[0m \u001b[1m27s\u001b[0m 259ms/step - accuracy: 0.5797 - loss: 1.0659\n",
            "Epoch 4/5\n",
            "\u001b[1m104/104\u001b[0m \u001b[32m━━━━━━━━━━━━━━━━━━━━\u001b[0m\u001b[37m\u001b[0m \u001b[1m27s\u001b[0m 260ms/step - accuracy: 0.5762 - loss: 1.1034\n",
            "Epoch 5/5\n",
            "\u001b[1m104/104\u001b[0m \u001b[32m━━━━━━━━━━━━━━━━━━━━\u001b[0m\u001b[37m\u001b[0m \u001b[1m27s\u001b[0m 255ms/step - accuracy: 0.5933 - loss: 1.0340\n",
            "\n",
            "Training client_1...\n",
            "Epoch 1/5\n",
            "\u001b[1m104/104\u001b[0m \u001b[32m━━━━━━━━━━━━━━━━━━━━\u001b[0m\u001b[37m\u001b[0m \u001b[1m31s\u001b[0m 261ms/step - accuracy: 0.5594 - loss: 1.1220\n",
            "Epoch 2/5\n",
            "\u001b[1m104/104\u001b[0m \u001b[32m━━━━━━━━━━━━━━━━━━━━\u001b[0m\u001b[37m\u001b[0m \u001b[1m41s\u001b[0m 258ms/step - accuracy: 0.5654 - loss: 1.0694\n",
            "Epoch 3/5\n",
            "\u001b[1m104/104\u001b[0m \u001b[32m━━━━━━━━━━━━━━━━━━━━\u001b[0m\u001b[37m\u001b[0m \u001b[1m41s\u001b[0m 258ms/step - accuracy: 0.5887 - loss: 1.0561\n",
            "Epoch 4/5\n",
            "\u001b[1m104/104\u001b[0m \u001b[32m━━━━━━━━━━━━━━━━━━━━\u001b[0m\u001b[37m\u001b[0m \u001b[1m26s\u001b[0m 248ms/step - accuracy: 0.5885 - loss: 1.0333\n",
            "Epoch 5/5\n",
            "\u001b[1m104/104\u001b[0m \u001b[32m━━━━━━━━━━━━━━━━━━━━\u001b[0m\u001b[37m\u001b[0m \u001b[1m41s\u001b[0m 247ms/step - accuracy: 0.5991 - loss: 1.0196\n",
            "\n",
            "Training client_2...\n",
            "Epoch 1/5\n",
            "\u001b[1m104/104\u001b[0m \u001b[32m━━━━━━━━━━━━━━━━━━━━\u001b[0m\u001b[37m\u001b[0m \u001b[1m31s\u001b[0m 261ms/step - accuracy: 0.5693 - loss: 1.1084\n",
            "Epoch 2/5\n",
            "\u001b[1m104/104\u001b[0m \u001b[32m━━━━━━━━━━━━━━━━━━━━\u001b[0m\u001b[37m\u001b[0m \u001b[1m28s\u001b[0m 264ms/step - accuracy: 0.5706 - loss: 1.1158\n",
            "Epoch 3/5\n",
            "\u001b[1m104/104\u001b[0m \u001b[32m━━━━━━━━━━━━━━━━━━━━\u001b[0m\u001b[37m\u001b[0m \u001b[1m27s\u001b[0m 257ms/step - accuracy: 0.5738 - loss: 1.0808\n",
            "Epoch 4/5\n",
            "\u001b[1m104/104\u001b[0m \u001b[32m━━━━━━━━━━━━━━━━━━━━\u001b[0m\u001b[37m\u001b[0m \u001b[1m40s\u001b[0m 248ms/step - accuracy: 0.5701 - loss: 1.0955\n",
            "Epoch 5/5\n",
            "\u001b[1m104/104\u001b[0m \u001b[32m━━━━━━━━━━━━━━━━━━━━\u001b[0m\u001b[37m\u001b[0m \u001b[1m26s\u001b[0m 249ms/step - accuracy: 0.6038 - loss: 1.0137\n",
            "\n",
            "Training client_3...\n",
            "Epoch 1/5\n",
            "\u001b[1m104/104\u001b[0m \u001b[32m━━━━━━━━━━━━━━━━━━━━\u001b[0m\u001b[37m\u001b[0m \u001b[1m32s\u001b[0m 266ms/step - accuracy: 0.5341 - loss: 1.1470\n",
            "Epoch 2/5\n",
            "\u001b[1m104/104\u001b[0m \u001b[32m━━━━━━━━━━━━━━━━━━━━\u001b[0m\u001b[37m\u001b[0m \u001b[1m28s\u001b[0m 264ms/step - accuracy: 0.5727 - loss: 1.0859\n",
            "Epoch 3/5\n",
            "\u001b[1m104/104\u001b[0m \u001b[32m━━━━━━━━━━━━━━━━━━━━\u001b[0m\u001b[37m\u001b[0m \u001b[1m41s\u001b[0m 262ms/step - accuracy: 0.5819 - loss: 1.0858\n",
            "Epoch 4/5\n",
            "\u001b[1m104/104\u001b[0m \u001b[32m━━━━━━━━━━━━━━━━━━━━\u001b[0m\u001b[37m\u001b[0m \u001b[1m41s\u001b[0m 262ms/step - accuracy: 0.5917 - loss: 1.0600\n",
            "Epoch 5/5\n",
            "\u001b[1m104/104\u001b[0m \u001b[32m━━━━━━━━━━━━━━━━━━━━\u001b[0m\u001b[37m\u001b[0m \u001b[1m40s\u001b[0m 250ms/step - accuracy: 0.6101 - loss: 0.9958\n",
            "\n",
            "Training client_4...\n",
            "Epoch 1/5\n",
            "\u001b[1m104/104\u001b[0m \u001b[32m━━━━━━━━━━━━━━━━━━━━\u001b[0m\u001b[37m\u001b[0m \u001b[1m32s\u001b[0m 267ms/step - accuracy: 0.5482 - loss: 1.1596\n",
            "Epoch 2/5\n",
            "\u001b[1m104/104\u001b[0m \u001b[32m━━━━━━━━━━━━━━━━━━━━\u001b[0m\u001b[37m\u001b[0m \u001b[1m28s\u001b[0m 268ms/step - accuracy: 0.5648 - loss: 1.0981\n",
            "Epoch 3/5\n",
            "\u001b[1m104/104\u001b[0m \u001b[32m━━━━━━━━━━━━━━━━━━━━\u001b[0m\u001b[37m\u001b[0m \u001b[1m27s\u001b[0m 254ms/step - accuracy: 0.5759 - loss: 1.0905\n",
            "Epoch 4/5\n",
            "\u001b[1m104/104\u001b[0m \u001b[32m━━━━━━━━━━━━━━━━━━━━\u001b[0m\u001b[37m\u001b[0m \u001b[1m42s\u001b[0m 259ms/step - accuracy: 0.5784 - loss: 1.0787\n",
            "Epoch 5/5\n",
            "\u001b[1m104/104\u001b[0m \u001b[32m━━━━━━━━━━━━━━━━━━━━\u001b[0m\u001b[37m\u001b[0m \u001b[1m27s\u001b[0m 254ms/step - accuracy: 0.6017 - loss: 1.0470\n",
            "\n",
            "[Validation]Global Model - Accuracy: 0.6012, Loss: 1.0273\n",
            "\n",
            "=== Round 5/10 ===\n",
            "\n",
            "Training client_0...\n",
            "Epoch 1/5\n",
            "\u001b[1m104/104\u001b[0m \u001b[32m━━━━━━━━━━━━━━━━━━━━\u001b[0m\u001b[37m\u001b[0m \u001b[1m31s\u001b[0m 255ms/step - accuracy: 0.5661 - loss: 1.0946\n",
            "Epoch 2/5\n",
            "\u001b[1m104/104\u001b[0m \u001b[32m━━━━━━━━━━━━━━━━━━━━\u001b[0m\u001b[37m\u001b[0m \u001b[1m41s\u001b[0m 253ms/step - accuracy: 0.5682 - loss: 1.0734\n",
            "Epoch 3/5\n",
            "\u001b[1m104/104\u001b[0m \u001b[32m━━━━━━━━━━━━━━━━━━━━\u001b[0m\u001b[37m\u001b[0m \u001b[1m26s\u001b[0m 251ms/step - accuracy: 0.5971 - loss: 1.0380\n",
            "Epoch 4/5\n",
            "\u001b[1m104/104\u001b[0m \u001b[32m━━━━━━━━━━━━━━━━━━━━\u001b[0m\u001b[37m\u001b[0m \u001b[1m27s\u001b[0m 261ms/step - accuracy: 0.6122 - loss: 0.9975\n",
            "Epoch 5/5\n",
            "\u001b[1m104/104\u001b[0m \u001b[32m━━━━━━━━━━━━━━━━━━━━\u001b[0m\u001b[37m\u001b[0m \u001b[1m27s\u001b[0m 260ms/step - accuracy: 0.6143 - loss: 0.9921\n",
            "\n",
            "Training client_1...\n",
            "Epoch 1/5\n",
            "\u001b[1m104/104\u001b[0m \u001b[32m━━━━━━━━━━━━━━━━━━━━\u001b[0m\u001b[37m\u001b[0m \u001b[1m32s\u001b[0m 269ms/step - accuracy: 0.5742 - loss: 1.0811\n",
            "Epoch 2/5\n",
            "\u001b[1m104/104\u001b[0m \u001b[32m━━━━━━━━━━━━━━━━━━━━\u001b[0m\u001b[37m\u001b[0m \u001b[1m28s\u001b[0m 266ms/step - accuracy: 0.5971 - loss: 1.0354\n",
            "Epoch 3/5\n",
            "\u001b[1m104/104\u001b[0m \u001b[32m━━━━━━━━━━━━━━━━━━━━\u001b[0m\u001b[37m\u001b[0m \u001b[1m41s\u001b[0m 267ms/step - accuracy: 0.6073 - loss: 0.9741\n",
            "Epoch 4/5\n",
            "\u001b[1m104/104\u001b[0m \u001b[32m━━━━━━━━━━━━━━━━━━━━\u001b[0m\u001b[37m\u001b[0m \u001b[1m28s\u001b[0m 265ms/step - accuracy: 0.6301 - loss: 0.9426\n",
            "Epoch 5/5\n",
            "\u001b[1m104/104\u001b[0m \u001b[32m━━━━━━━━━━━━━━━━━━━━\u001b[0m\u001b[37m\u001b[0m \u001b[1m41s\u001b[0m 267ms/step - accuracy: 0.6308 - loss: 0.9391\n",
            "\n",
            "Training client_2...\n",
            "Epoch 1/5\n",
            "\u001b[1m104/104\u001b[0m \u001b[32m━━━━━━━━━━━━━━━━━━━━\u001b[0m\u001b[37m\u001b[0m \u001b[1m32s\u001b[0m 263ms/step - accuracy: 0.5686 - loss: 1.0859\n",
            "Epoch 2/5\n",
            "\u001b[1m104/104\u001b[0m \u001b[32m━━━━━━━━━━━━━━━━━━━━\u001b[0m\u001b[37m\u001b[0m \u001b[1m27s\u001b[0m 260ms/step - accuracy: 0.5899 - loss: 1.0494\n",
            "Epoch 3/5\n",
            "\u001b[1m104/104\u001b[0m \u001b[32m━━━━━━━━━━━━━━━━━━━━\u001b[0m\u001b[37m\u001b[0m \u001b[1m28s\u001b[0m 265ms/step - accuracy: 0.6059 - loss: 0.9893\n",
            "Epoch 4/5\n",
            "\u001b[1m104/104\u001b[0m \u001b[32m━━━━━━━━━━━━━━━━━━━━\u001b[0m\u001b[37m\u001b[0m \u001b[1m28s\u001b[0m 264ms/step - accuracy: 0.6121 - loss: 1.0175\n",
            "Epoch 5/5\n",
            "\u001b[1m104/104\u001b[0m \u001b[32m━━━━━━━━━━━━━━━━━━━━\u001b[0m\u001b[37m\u001b[0m \u001b[1m27s\u001b[0m 258ms/step - accuracy: 0.6167 - loss: 0.9517\n",
            "\n",
            "Training client_3...\n",
            "Epoch 1/5\n",
            "\u001b[1m104/104\u001b[0m \u001b[32m━━━━━━━━━━━━━━━━━━━━\u001b[0m\u001b[37m\u001b[0m \u001b[1m32s\u001b[0m 268ms/step - accuracy: 0.5689 - loss: 1.0772\n",
            "Epoch 2/5\n",
            "\u001b[1m104/104\u001b[0m \u001b[32m━━━━━━━━━━━━━━━━━━━━\u001b[0m\u001b[37m\u001b[0m \u001b[1m28s\u001b[0m 270ms/step - accuracy: 0.6081 - loss: 1.0027\n",
            "Epoch 3/5\n",
            "\u001b[1m104/104\u001b[0m \u001b[32m━━━━━━━━━━━━━━━━━━━━\u001b[0m\u001b[37m\u001b[0m \u001b[1m27s\u001b[0m 261ms/step - accuracy: 0.6185 - loss: 0.9755\n",
            "Epoch 4/5\n",
            "\u001b[1m104/104\u001b[0m \u001b[32m━━━━━━━━━━━━━━━━━━━━\u001b[0m\u001b[37m\u001b[0m \u001b[1m41s\u001b[0m 260ms/step - accuracy: 0.6333 - loss: 0.9342\n",
            "Epoch 5/5\n",
            "\u001b[1m104/104\u001b[0m \u001b[32m━━━━━━━━━━━━━━━━━━━━\u001b[0m\u001b[37m\u001b[0m \u001b[1m26s\u001b[0m 251ms/step - accuracy: 0.6290 - loss: 0.9524\n",
            "\n",
            "Training client_4...\n",
            "Epoch 1/5\n",
            "\u001b[1m104/104\u001b[0m \u001b[32m━━━━━━━━━━━━━━━━━━━━\u001b[0m\u001b[37m\u001b[0m \u001b[1m31s\u001b[0m 265ms/step - accuracy: 0.5742 - loss: 1.0699\n",
            "Epoch 2/5\n",
            "\u001b[1m104/104\u001b[0m \u001b[32m━━━━━━━━━━━━━━━━━━━━\u001b[0m\u001b[37m\u001b[0m \u001b[1m28s\u001b[0m 266ms/step - accuracy: 0.5791 - loss: 1.0563\n",
            "Epoch 3/5\n",
            "\u001b[1m104/104\u001b[0m \u001b[32m━━━━━━━━━━━━━━━━━━━━\u001b[0m\u001b[37m\u001b[0m \u001b[1m28s\u001b[0m 263ms/step - accuracy: 0.6136 - loss: 0.9973\n",
            "Epoch 4/5\n",
            "\u001b[1m104/104\u001b[0m \u001b[32m━━━━━━━━━━━━━━━━━━━━\u001b[0m\u001b[37m\u001b[0m \u001b[1m40s\u001b[0m 257ms/step - accuracy: 0.6236 - loss: 0.9689\n",
            "Epoch 5/5\n",
            "\u001b[1m104/104\u001b[0m \u001b[32m━━━━━━━━━━━━━━━━━━━━\u001b[0m\u001b[37m\u001b[0m \u001b[1m41s\u001b[0m 253ms/step - accuracy: 0.6323 - loss: 0.9427\n",
            "\n",
            "[Validation]Global Model - Accuracy: 0.6083, Loss: 1.0082\n",
            "\n",
            "=== Round 6/10 ===\n",
            "\n",
            "Training client_0...\n",
            "Epoch 1/5\n",
            "\u001b[1m104/104\u001b[0m \u001b[32m━━━━━━━━━━━━━━━━━━━━\u001b[0m\u001b[37m\u001b[0m \u001b[1m31s\u001b[0m 265ms/step - accuracy: 0.5942 - loss: 1.0261\n",
            "Epoch 2/5\n",
            "\u001b[1m104/104\u001b[0m \u001b[32m━━━━━━━━━━━━━━━━━━━━\u001b[0m\u001b[37m\u001b[0m \u001b[1m28s\u001b[0m 265ms/step - accuracy: 0.6180 - loss: 0.9796\n",
            "Epoch 3/5\n",
            "\u001b[1m104/104\u001b[0m \u001b[32m━━━━━━━━━━━━━━━━━━━━\u001b[0m\u001b[37m\u001b[0m \u001b[1m28s\u001b[0m 265ms/step - accuracy: 0.6236 - loss: 0.9665\n",
            "Epoch 4/5\n",
            "\u001b[1m104/104\u001b[0m \u001b[32m━━━━━━━━━━━━━━━━━━━━\u001b[0m\u001b[37m\u001b[0m \u001b[1m28s\u001b[0m 266ms/step - accuracy: 0.6199 - loss: 0.9629\n",
            "Epoch 5/5\n",
            "\u001b[1m104/104\u001b[0m \u001b[32m━━━━━━━━━━━━━━━━━━━━\u001b[0m\u001b[37m\u001b[0m \u001b[1m28s\u001b[0m 266ms/step - accuracy: 0.6309 - loss: 0.9343\n",
            "\n",
            "Training client_1...\n",
            "Epoch 1/5\n",
            "\u001b[1m104/104\u001b[0m \u001b[32m━━━━━━━━━━━━━━━━━━━━\u001b[0m\u001b[37m\u001b[0m \u001b[1m31s\u001b[0m 260ms/step - accuracy: 0.5989 - loss: 1.0045\n",
            "Epoch 2/5\n",
            "\u001b[1m104/104\u001b[0m \u001b[32m━━━━━━━━━━━━━━━━━━━━\u001b[0m\u001b[37m\u001b[0m \u001b[1m27s\u001b[0m 261ms/step - accuracy: 0.6240 - loss: 0.9480\n",
            "Epoch 3/5\n",
            "\u001b[1m104/104\u001b[0m \u001b[32m━━━━━━━━━━━━━━━━━━━━\u001b[0m\u001b[37m\u001b[0m \u001b[1m26s\u001b[0m 251ms/step - accuracy: 0.6283 - loss: 0.9584\n",
            "Epoch 4/5\n",
            "\u001b[1m104/104\u001b[0m \u001b[32m━━━━━━━━━━━━━━━━━━━━\u001b[0m\u001b[37m\u001b[0m \u001b[1m42s\u001b[0m 262ms/step - accuracy: 0.6519 - loss: 0.8882\n",
            "Epoch 5/5\n",
            "\u001b[1m104/104\u001b[0m \u001b[32m━━━━━━━━━━━━━━━━━━━━\u001b[0m\u001b[37m\u001b[0m \u001b[1m41s\u001b[0m 260ms/step - accuracy: 0.6406 - loss: 0.9066\n",
            "\n",
            "Training client_2...\n",
            "Epoch 1/5\n",
            "\u001b[1m104/104\u001b[0m \u001b[32m━━━━━━━━━━━━━━━━━━━━\u001b[0m\u001b[37m\u001b[0m \u001b[1m31s\u001b[0m 261ms/step - accuracy: 0.6008 - loss: 1.0104\n",
            "Epoch 2/5\n",
            "\u001b[1m104/104\u001b[0m \u001b[32m━━━━━━━━━━━━━━━━━━━━\u001b[0m\u001b[37m\u001b[0m \u001b[1m27s\u001b[0m 260ms/step - accuracy: 0.6234 - loss: 0.9585\n",
            "Epoch 3/5\n",
            "\u001b[1m104/104\u001b[0m \u001b[32m━━━━━━━━━━━━━━━━━━━━\u001b[0m\u001b[37m\u001b[0m \u001b[1m26s\u001b[0m 252ms/step - accuracy: 0.6181 - loss: 0.9749\n",
            "Epoch 4/5\n",
            "\u001b[1m104/104\u001b[0m \u001b[32m━━━━━━━━━━━━━━━━━━━━\u001b[0m\u001b[37m\u001b[0m \u001b[1m27s\u001b[0m 255ms/step - accuracy: 0.6231 - loss: 0.9370\n",
            "Epoch 5/5\n",
            "\u001b[1m104/104\u001b[0m \u001b[32m━━━━━━━━━━━━━━━━━━━━\u001b[0m\u001b[37m\u001b[0m \u001b[1m28s\u001b[0m 266ms/step - accuracy: 0.6276 - loss: 0.9117\n",
            "\n",
            "Training client_3...\n",
            "Epoch 1/5\n",
            "\u001b[1m104/104\u001b[0m \u001b[32m━━━━━━━━━━━━━━━━━━━━\u001b[0m\u001b[37m\u001b[0m \u001b[1m31s\u001b[0m 251ms/step - accuracy: 0.6024 - loss: 0.9973\n",
            "Epoch 2/5\n",
            "\u001b[1m104/104\u001b[0m \u001b[32m━━━━━━━━━━━━━━━━━━━━\u001b[0m\u001b[37m\u001b[0m \u001b[1m41s\u001b[0m 257ms/step - accuracy: 0.6063 - loss: 0.9880\n",
            "Epoch 3/5\n",
            "\u001b[1m104/104\u001b[0m \u001b[32m━━━━━━━━━━━━━━━━━━━━\u001b[0m\u001b[37m\u001b[0m \u001b[1m42s\u001b[0m 262ms/step - accuracy: 0.6386 - loss: 0.9132\n",
            "Epoch 4/5\n",
            "\u001b[1m104/104\u001b[0m \u001b[32m━━━━━━━━━━━━━━━━━━━━\u001b[0m\u001b[37m\u001b[0m \u001b[1m41s\u001b[0m 258ms/step - accuracy: 0.6478 - loss: 0.8938\n",
            "Epoch 5/5\n",
            "\u001b[1m104/104\u001b[0m \u001b[32m━━━━━━━━━━━━━━━━━━━━\u001b[0m\u001b[37m\u001b[0m \u001b[1m27s\u001b[0m 252ms/step - accuracy: 0.6444 - loss: 0.8661\n",
            "\n",
            "Training client_4...\n",
            "Epoch 1/5\n",
            "\u001b[1m104/104\u001b[0m \u001b[32m━━━━━━━━━━━━━━━━━━━━\u001b[0m\u001b[37m\u001b[0m \u001b[1m32s\u001b[0m 262ms/step - accuracy: 0.5901 - loss: 1.0424\n",
            "Epoch 2/5\n",
            "\u001b[1m104/104\u001b[0m \u001b[32m━━━━━━━━━━━━━━━━━━━━\u001b[0m\u001b[37m\u001b[0m \u001b[1m40s\u001b[0m 258ms/step - accuracy: 0.6396 - loss: 0.9438\n",
            "Epoch 3/5\n",
            "\u001b[1m104/104\u001b[0m \u001b[32m━━━━━━━━━━━━━━━━━━━━\u001b[0m\u001b[37m\u001b[0m \u001b[1m41s\u001b[0m 261ms/step - accuracy: 0.6274 - loss: 0.9559\n",
            "Epoch 4/5\n",
            "\u001b[1m104/104\u001b[0m \u001b[32m━━━━━━━━━━━━━━━━━━━━\u001b[0m\u001b[37m\u001b[0m \u001b[1m41s\u001b[0m 258ms/step - accuracy: 0.6278 - loss: 0.9636\n",
            "Epoch 5/5\n",
            "\u001b[1m104/104\u001b[0m \u001b[32m━━━━━━━━━━━━━━━━━━━━\u001b[0m\u001b[37m\u001b[0m \u001b[1m27s\u001b[0m 255ms/step - accuracy: 0.6553 - loss: 0.8887\n",
            "\n",
            "[Validation]Global Model - Accuracy: 0.6313, Loss: 0.9524\n",
            "\n",
            "=== Round 7/10 ===\n",
            "\n",
            "Training client_0...\n",
            "Epoch 1/5\n",
            "\u001b[1m104/104\u001b[0m \u001b[32m━━━━━━━━━━━━━━━━━━━━\u001b[0m\u001b[37m\u001b[0m \u001b[1m32s\u001b[0m 269ms/step - accuracy: 0.6247 - loss: 0.9561\n",
            "Epoch 2/5\n",
            "\u001b[1m104/104\u001b[0m \u001b[32m━━━━━━━━━━━━━━━━━━━━\u001b[0m\u001b[37m\u001b[0m \u001b[1m28s\u001b[0m 268ms/step - accuracy: 0.6255 - loss: 0.9612\n",
            "Epoch 3/5\n",
            "\u001b[1m104/104\u001b[0m \u001b[32m━━━━━━━━━━━━━━━━━━━━\u001b[0m\u001b[37m\u001b[0m \u001b[1m27s\u001b[0m 259ms/step - accuracy: 0.6500 - loss: 0.9046\n",
            "Epoch 4/5\n",
            "\u001b[1m104/104\u001b[0m \u001b[32m━━━━━━━━━━━━━━━━━━━━\u001b[0m\u001b[37m\u001b[0m \u001b[1m27s\u001b[0m 263ms/step - accuracy: 0.6399 - loss: 0.9105\n",
            "Epoch 5/5\n",
            "\u001b[1m104/104\u001b[0m \u001b[32m━━━━━━━━━━━━━━━━━━━━\u001b[0m\u001b[37m\u001b[0m \u001b[1m27s\u001b[0m 262ms/step - accuracy: 0.6396 - loss: 0.9258\n",
            "\n",
            "Training client_1...\n",
            "Epoch 1/5\n",
            "\u001b[1m104/104\u001b[0m \u001b[32m━━━━━━━━━━━━━━━━━━━━\u001b[0m\u001b[37m\u001b[0m \u001b[1m32s\u001b[0m 260ms/step - accuracy: 0.6368 - loss: 0.9574\n",
            "Epoch 2/5\n",
            "\u001b[1m104/104\u001b[0m \u001b[32m━━━━━━━━━━━━━━━━━━━━\u001b[0m\u001b[37m\u001b[0m \u001b[1m27s\u001b[0m 261ms/step - accuracy: 0.6443 - loss: 0.9034\n",
            "Epoch 3/5\n",
            "\u001b[1m104/104\u001b[0m \u001b[32m━━━━━━━━━━━━━━━━━━━━\u001b[0m\u001b[37m\u001b[0m \u001b[1m27s\u001b[0m 259ms/step - accuracy: 0.6787 - loss: 0.8560\n",
            "Epoch 4/5\n",
            "\u001b[1m104/104\u001b[0m \u001b[32m━━━━━━━━━━━━━━━━━━━━\u001b[0m\u001b[37m\u001b[0m \u001b[1m26s\u001b[0m 246ms/step - accuracy: 0.6664 - loss: 0.8546\n",
            "Epoch 5/5\n",
            "\u001b[1m104/104\u001b[0m \u001b[32m━━━━━━━━━━━━━━━━━━━━\u001b[0m\u001b[37m\u001b[0m \u001b[1m27s\u001b[0m 259ms/step - accuracy: 0.6875 - loss: 0.8330\n",
            "\n",
            "Training client_2...\n",
            "Epoch 1/5\n",
            "\u001b[1m104/104\u001b[0m \u001b[32m━━━━━━━━━━━━━━━━━━━━\u001b[0m\u001b[37m\u001b[0m \u001b[1m32s\u001b[0m 257ms/step - accuracy: 0.6270 - loss: 0.9648\n",
            "Epoch 2/5\n",
            "\u001b[1m104/104\u001b[0m \u001b[32m━━━━━━━━━━━━━━━━━━━━\u001b[0m\u001b[37m\u001b[0m \u001b[1m41s\u001b[0m 257ms/step - accuracy: 0.6299 - loss: 0.9406\n",
            "Epoch 3/5\n",
            "\u001b[1m104/104\u001b[0m \u001b[32m━━━━━━━━━━━━━━━━━━━━\u001b[0m\u001b[37m\u001b[0m \u001b[1m41s\u001b[0m 253ms/step - accuracy: 0.6465 - loss: 0.9002\n",
            "Epoch 4/5\n",
            "\u001b[1m104/104\u001b[0m \u001b[32m━━━━━━━━━━━━━━━━━━━━\u001b[0m\u001b[37m\u001b[0m \u001b[1m41s\u001b[0m 254ms/step - accuracy: 0.6527 - loss: 0.9006\n",
            "Epoch 5/5\n",
            "\u001b[1m104/104\u001b[0m \u001b[32m━━━━━━━━━━━━━━━━━━━━\u001b[0m\u001b[37m\u001b[0m \u001b[1m26s\u001b[0m 247ms/step - accuracy: 0.6405 - loss: 0.9034\n",
            "\n",
            "Training client_3...\n",
            "Epoch 1/5\n",
            "\u001b[1m104/104\u001b[0m \u001b[32m━━━━━━━━━━━━━━━━━━━━\u001b[0m\u001b[37m\u001b[0m \u001b[1m31s\u001b[0m 255ms/step - accuracy: 0.6301 - loss: 0.9514\n",
            "Epoch 2/5\n",
            "\u001b[1m104/104\u001b[0m \u001b[32m━━━━━━━━━━━━━━━━━━━━\u001b[0m\u001b[37m\u001b[0m \u001b[1m26s\u001b[0m 245ms/step - accuracy: 0.6440 - loss: 0.9052\n",
            "Epoch 3/5\n",
            "\u001b[1m104/104\u001b[0m \u001b[32m━━━━━━━━━━━━━━━━━━━━\u001b[0m\u001b[37m\u001b[0m \u001b[1m27s\u001b[0m 261ms/step - accuracy: 0.6477 - loss: 0.8779\n",
            "Epoch 4/5\n",
            "\u001b[1m104/104\u001b[0m \u001b[32m━━━━━━━━━━━━━━━━━━━━\u001b[0m\u001b[37m\u001b[0m \u001b[1m27s\u001b[0m 263ms/step - accuracy: 0.6664 - loss: 0.8744\n",
            "Epoch 5/5\n",
            "\u001b[1m104/104\u001b[0m \u001b[32m━━━━━━━━━━━━━━━━━━━━\u001b[0m\u001b[37m\u001b[0m \u001b[1m41s\u001b[0m 260ms/step - accuracy: 0.6472 - loss: 0.8732\n",
            "\n",
            "Training client_4...\n",
            "Epoch 1/5\n",
            "\u001b[1m104/104\u001b[0m \u001b[32m━━━━━━━━━━━━━━━━━━━━\u001b[0m\u001b[37m\u001b[0m \u001b[1m31s\u001b[0m 263ms/step - accuracy: 0.6283 - loss: 0.9925\n",
            "Epoch 2/5\n",
            "\u001b[1m104/104\u001b[0m \u001b[32m━━━━━━━━━━━━━━━━━━━━\u001b[0m\u001b[37m\u001b[0m \u001b[1m27s\u001b[0m 261ms/step - accuracy: 0.6426 - loss: 0.9516\n",
            "Epoch 3/5\n",
            "\u001b[1m104/104\u001b[0m \u001b[32m━━━━━━━━━━━━━━━━━━━━\u001b[0m\u001b[37m\u001b[0m \u001b[1m27s\u001b[0m 261ms/step - accuracy: 0.6470 - loss: 0.9104\n",
            "Epoch 4/5\n",
            "\u001b[1m104/104\u001b[0m \u001b[32m━━━━━━━━━━━━━━━━━━━━\u001b[0m\u001b[37m\u001b[0m \u001b[1m41s\u001b[0m 259ms/step - accuracy: 0.6714 - loss: 0.8777\n",
            "Epoch 5/5\n",
            "\u001b[1m104/104\u001b[0m \u001b[32m━━━━━━━━━━━━━━━━━━━━\u001b[0m\u001b[37m\u001b[0m \u001b[1m26s\u001b[0m 250ms/step - accuracy: 0.6691 - loss: 0.8398\n",
            "\n",
            "[Validation]Global Model - Accuracy: 0.6322, Loss: 0.9789\n",
            "\n",
            "=== Round 8/10 ===\n",
            "\n",
            "Training client_0...\n",
            "Epoch 1/5\n",
            "\u001b[1m104/104\u001b[0m \u001b[32m━━━━━━━━━━━━━━━━━━━━\u001b[0m\u001b[37m\u001b[0m \u001b[1m31s\u001b[0m 262ms/step - accuracy: 0.6232 - loss: 0.9589\n",
            "Epoch 2/5\n",
            "\u001b[1m104/104\u001b[0m \u001b[32m━━━━━━━━━━━━━━━━━━━━\u001b[0m\u001b[37m\u001b[0m \u001b[1m28s\u001b[0m 264ms/step - accuracy: 0.6617 - loss: 0.8647\n",
            "Epoch 3/5\n",
            "\u001b[1m104/104\u001b[0m \u001b[32m━━━━━━━━━━━━━━━━━━━━\u001b[0m\u001b[37m\u001b[0m \u001b[1m28s\u001b[0m 265ms/step - accuracy: 0.6493 - loss: 0.8929\n",
            "Epoch 4/5\n",
            "\u001b[1m104/104\u001b[0m \u001b[32m━━━━━━━━━━━━━━━━━━━━\u001b[0m\u001b[37m\u001b[0m \u001b[1m27s\u001b[0m 259ms/step - accuracy: 0.6531 - loss: 0.9044\n",
            "Epoch 5/5\n",
            "\u001b[1m104/104\u001b[0m \u001b[32m━━━━━━━━━━━━━━━━━━━━\u001b[0m\u001b[37m\u001b[0m \u001b[1m26s\u001b[0m 252ms/step - accuracy: 0.6789 - loss: 0.8209\n",
            "\n",
            "Training client_1...\n",
            "Epoch 1/5\n",
            "\u001b[1m104/104\u001b[0m \u001b[32m━━━━━━━━━━━━━━━━━━━━\u001b[0m\u001b[37m\u001b[0m \u001b[1m32s\u001b[0m 269ms/step - accuracy: 0.6371 - loss: 0.9350\n",
            "Epoch 2/5\n",
            "\u001b[1m104/104\u001b[0m \u001b[32m━━━━━━━━━━━━━━━━━━━━\u001b[0m\u001b[37m\u001b[0m \u001b[1m28s\u001b[0m 266ms/step - accuracy: 0.6506 - loss: 0.8937\n",
            "Epoch 3/5\n",
            "\u001b[1m104/104\u001b[0m \u001b[32m━━━━━━━━━━━━━━━━━━━━\u001b[0m\u001b[37m\u001b[0m \u001b[1m41s\u001b[0m 266ms/step - accuracy: 0.6592 - loss: 0.8583\n",
            "Epoch 4/5\n",
            "\u001b[1m104/104\u001b[0m \u001b[32m━━━━━━━━━━━━━━━━━━━━\u001b[0m\u001b[37m\u001b[0m \u001b[1m28s\u001b[0m 267ms/step - accuracy: 0.6800 - loss: 0.8144\n",
            "Epoch 5/5\n",
            "\u001b[1m104/104\u001b[0m \u001b[32m━━━━━━━━━━━━━━━━━━━━\u001b[0m\u001b[37m\u001b[0m \u001b[1m27s\u001b[0m 260ms/step - accuracy: 0.6721 - loss: 0.8154\n",
            "\n",
            "Training client_2...\n",
            "Epoch 1/5\n",
            "\u001b[1m104/104\u001b[0m \u001b[32m━━━━━━━━━━━━━━━━━━━━\u001b[0m\u001b[37m\u001b[0m \u001b[1m32s\u001b[0m 269ms/step - accuracy: 0.6422 - loss: 0.9194\n",
            "Epoch 2/5\n",
            "\u001b[1m104/104\u001b[0m \u001b[32m━━━━━━━━━━━━━━━━━━━━\u001b[0m\u001b[37m\u001b[0m \u001b[1m28s\u001b[0m 266ms/step - accuracy: 0.6588 - loss: 0.8836\n",
            "Epoch 3/5\n",
            "\u001b[1m104/104\u001b[0m \u001b[32m━━━━━━━━━━━━━━━━━━━━\u001b[0m\u001b[37m\u001b[0m \u001b[1m27s\u001b[0m 259ms/step - accuracy: 0.6526 - loss: 0.8882\n",
            "Epoch 4/5\n",
            "\u001b[1m104/104\u001b[0m \u001b[32m━━━━━━━━━━━━━━━━━━━━\u001b[0m\u001b[37m\u001b[0m \u001b[1m27s\u001b[0m 256ms/step - accuracy: 0.6831 - loss: 0.8501\n",
            "Epoch 5/5\n",
            "\u001b[1m104/104\u001b[0m \u001b[32m━━━━━━━━━━━━━━━━━━━━\u001b[0m\u001b[37m\u001b[0m \u001b[1m28s\u001b[0m 267ms/step - accuracy: 0.6959 - loss: 0.8117\n",
            "\n",
            "Training client_3...\n",
            "Epoch 1/5\n",
            "\u001b[1m104/104\u001b[0m \u001b[32m━━━━━━━━━━━━━━━━━━━━\u001b[0m\u001b[37m\u001b[0m \u001b[1m32s\u001b[0m 262ms/step - accuracy: 0.6385 - loss: 0.9068\n",
            "Epoch 2/5\n",
            "\u001b[1m104/104\u001b[0m \u001b[32m━━━━━━━━━━━━━━━━━━━━\u001b[0m\u001b[37m\u001b[0m \u001b[1m40s\u001b[0m 248ms/step - accuracy: 0.6393 - loss: 0.8788\n",
            "Epoch 3/5\n",
            "\u001b[1m104/104\u001b[0m \u001b[32m━━━━━━━━━━━━━━━━━━━━\u001b[0m\u001b[37m\u001b[0m \u001b[1m27s\u001b[0m 254ms/step - accuracy: 0.6741 - loss: 0.8262\n",
            "Epoch 4/5\n",
            "\u001b[1m104/104\u001b[0m \u001b[32m━━━━━━━━━━━━━━━━━━━━\u001b[0m\u001b[37m\u001b[0m \u001b[1m28s\u001b[0m 267ms/step - accuracy: 0.6867 - loss: 0.8241\n",
            "Epoch 5/5\n",
            "\u001b[1m104/104\u001b[0m \u001b[32m━━━━━━━━━━━━━━━━━━━━\u001b[0m\u001b[37m\u001b[0m \u001b[1m28s\u001b[0m 267ms/step - accuracy: 0.6942 - loss: 0.7980\n",
            "\n",
            "Training client_4...\n",
            "Epoch 1/5\n",
            "\u001b[1m104/104\u001b[0m \u001b[32m━━━━━━━━━━━━━━━━━━━━\u001b[0m\u001b[37m\u001b[0m \u001b[1m31s\u001b[0m 265ms/step - accuracy: 0.6266 - loss: 0.9433\n",
            "Epoch 2/5\n",
            "\u001b[1m104/104\u001b[0m \u001b[32m━━━━━━━━━━━━━━━━━━━━\u001b[0m\u001b[37m\u001b[0m \u001b[1m28s\u001b[0m 266ms/step - accuracy: 0.6490 - loss: 0.8849\n",
            "Epoch 3/5\n",
            "\u001b[1m104/104\u001b[0m \u001b[32m━━━━━━━━━━━━━━━━━━━━\u001b[0m\u001b[37m\u001b[0m \u001b[1m41s\u001b[0m 267ms/step - accuracy: 0.6444 - loss: 0.8665\n",
            "Epoch 4/5\n",
            "\u001b[1m104/104\u001b[0m \u001b[32m━━━━━━━━━━━━━━━━━━━━\u001b[0m\u001b[37m\u001b[0m \u001b[1m28s\u001b[0m 269ms/step - accuracy: 0.6597 - loss: 0.8690\n",
            "Epoch 5/5\n",
            "\u001b[1m104/104\u001b[0m \u001b[32m━━━━━━━━━━━━━━━━━━━━\u001b[0m\u001b[37m\u001b[0m \u001b[1m28s\u001b[0m 267ms/step - accuracy: 0.6798 - loss: 0.8311\n",
            "\n",
            "[Validation]Global Model - Accuracy: 0.6332, Loss: 0.9661\n",
            "\n",
            "=== Round 9/10 ===\n",
            "\n",
            "Training client_0...\n",
            "Epoch 1/5\n",
            "\u001b[1m104/104\u001b[0m \u001b[32m━━━━━━━━━━━━━━━━━━━━\u001b[0m\u001b[37m\u001b[0m \u001b[1m32s\u001b[0m 265ms/step - accuracy: 0.6582 - loss: 0.9255\n",
            "Epoch 2/5\n",
            "\u001b[1m104/104\u001b[0m \u001b[32m━━━━━━━━━━━━━━━━━━━━\u001b[0m\u001b[37m\u001b[0m \u001b[1m27s\u001b[0m 259ms/step - accuracy: 0.6620 - loss: 0.8685\n",
            "Epoch 3/5\n",
            "\u001b[1m104/104\u001b[0m \u001b[32m━━━━━━━━━━━━━━━━━━━━\u001b[0m\u001b[37m\u001b[0m \u001b[1m27s\u001b[0m 255ms/step - accuracy: 0.6725 - loss: 0.8413\n",
            "Epoch 4/5\n",
            "\u001b[1m  6/104\u001b[0m \u001b[32m━\u001b[0m\u001b[37m━━━━━━━━━━━━━━━━━━━\u001b[0m \u001b[1m38s\u001b[0m 393ms/step - accuracy: 0.7173 - loss: 0.7152"
          ]
        }
      ]
    }
  ]
}