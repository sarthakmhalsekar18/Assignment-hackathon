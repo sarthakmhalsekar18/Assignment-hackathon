{
  "nbformat": 4,
  "nbformat_minor": 0,
  "metadata": {
    "colab": {
      "provenance": [],
      "authorship_tag": "ABX9TyOgIv2ZsgoJWP433ui9aayY",
      "include_colab_link": true
    },
    "kernelspec": {
      "name": "python3",
      "display_name": "Python 3"
    },
    "language_info": {
      "name": "python"
    }
  },
  "cells": [
    {
      "cell_type": "markdown",
      "metadata": {
        "id": "view-in-github",
        "colab_type": "text"
      },
      "source": [
        "<a href=\"https://colab.research.google.com/github/sarthakmhalsekar18/Assignment-hackathon/blob/main/Project.ipynb\" target=\"_parent\"><img src=\"https://colab.research.google.com/assets/colab-badge.svg\" alt=\"Open In Colab\"/></a>"
      ]
    },
    {
      "cell_type": "code",
      "source": [
        "from google.colab import drive\n",
        "import os\n",
        "if not os.path.exists('/content/drive'):\n",
        "  drive.mount('/content/drive')\n",
        "else:\n",
        "  print(\"Google Drive is already mounted at /content/drive\")"
      ],
      "metadata": {
        "colab": {
          "base_uri": "https://localhost:8080/"
        },
        "id": "lKY3-H5GkUFQ",
        "outputId": "ce0081a4-42b1-4dd3-9c56-f06378142138"
      },
      "execution_count": 1,
      "outputs": [
        {
          "output_type": "stream",
          "name": "stdout",
          "text": [
            "Mounted at /content/drive\n"
          ]
        }
      ]
    },
    {
      "cell_type": "markdown",
      "source": [
        "Library imported"
      ],
      "metadata": {
        "id": "iLoltuG2rHI2"
      }
    },
    {
      "cell_type": "code",
      "source": [
        "import os\n",
        "import numpy as np\n",
        "import pandas as pd\n",
        "import matplotlib.pyplot as plt\n",
        "from sklearn.model_selection import train_test_split\n",
        "import tensorflow as tf\n",
        "from tensorflow.keras.models import Sequential\n",
        "from tensorflow.keras.layers import Conv2D, MaxPooling2D, BatchNormalization, Flatten, Dense\n",
        "from tensorflow.keras.optimizers import Adam\n",
        "from tensorflow.keras.preprocessing.image import ImageDataGenerator"
      ],
      "metadata": {
        "id": "wFrFSB3jk0Gw"
      },
      "execution_count": 2,
      "outputs": []
    },
    {
      "cell_type": "code",
      "source": [
        "IMG_DIM=48\n",
        "CLASSES=['angry','disgust','fear','happy','sad','surprise']\n",
        "NUM_CLASSES=len(CLASSES)\n",
        "DATA_PATH='/content/drive/MyDrive/Datasets/sarthak dataset'"
      ],
      "metadata": {
        "id": "IF9DNUDUlRn2"
      },
      "execution_count": 7,
      "outputs": []
    },
    {
      "cell_type": "markdown",
      "source": [
        "Fedrated Learning"
      ],
      "metadata": {
        "id": "2KO0LmecrO0i"
      }
    },
    {
      "cell_type": "code",
      "source": [
        "NUM_CLIENTS=5\n",
        "CLIENT_EPOCHS=5\n",
        "NUM_ROUNDS=10\n",
        "BATCH_SIZE=32"
      ],
      "metadata": {
        "id": "-oJxQFhgpfGc"
      },
      "execution_count": 6,
      "outputs": []
    },
    {
      "cell_type": "code",
      "source": [
        "df=pd.concat([pd.DataFrame({\n",
        "    'filename':[os.path.join(DATA_PATH,'train',class_name,f)\n",
        "                for f in os.listdir(os.path.join(DATA_PATH,'train',class_name))\n",
        "                if f.endswith(('.jpg','.png'))],\n",
        "    'class':class_name\n",
        "})for class_name in CLASSES])\n",
        "print(df.head(2))"
      ],
      "metadata": {
        "colab": {
          "base_uri": "https://localhost:8080/"
        },
        "id": "UL3wspS5qZqm",
        "outputId": "36124304-ba9e-4cdd-b346-a2e464732fa3"
      },
      "execution_count": 8,
      "outputs": [
        {
          "output_type": "stream",
          "name": "stdout",
          "text": [
            "                                            filename  class\n",
            "0  /content/drive/MyDrive/Datasets/sarthak datase...  angry\n",
            "1  /content/drive/MyDrive/Datasets/sarthak datase...  angry\n"
          ]
        }
      ]
    },
    {
      "cell_type": "code",
      "source": [
        "df_train,df_val=train_test_split(df,test_size=0.3,random_state=42)"
      ],
      "metadata": {
        "id": "JfCu7vJarekp"
      },
      "execution_count": 9,
      "outputs": []
    },
    {
      "cell_type": "code",
      "source": [
        "print(\"---Dataset Summary---\")\n",
        "print(f\"Total images:{len(df)}\")\n",
        "print(f\"Training images(70%):{len(df_train)}\")\n",
        "print(f\"Validation images30%):{len(df_val)}\")"
      ],
      "metadata": {
        "id": "sYBmhPhBrfy-",
        "outputId": "a1737810-8964-425d-a72a-04913798822e",
        "colab": {
          "base_uri": "https://localhost:8080/"
        }
      },
      "execution_count": 10,
      "outputs": [
        {
          "output_type": "stream",
          "name": "stdout",
          "text": [
            "---Dataset Summary---\n",
            "Total images:23754\n",
            "Training images(70%):16627\n",
            "Validation images30%):7127\n"
          ]
        }
      ]
    }
  ]
}