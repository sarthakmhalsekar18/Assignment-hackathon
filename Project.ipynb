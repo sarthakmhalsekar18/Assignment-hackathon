{
  "nbformat": 4,
  "nbformat_minor": 0,
  "metadata": {
    "colab": {
      "provenance": [],
      "authorship_tag": "ABX9TyNc1iQg4bExgbDb+2fHkSOQ",
      "include_colab_link": true
    },
    "kernelspec": {
      "name": "python3",
      "display_name": "Python 3"
    },
    "language_info": {
      "name": "python"
    }
  },
  "cells": [
    {
      "cell_type": "markdown",
      "metadata": {
        "id": "view-in-github",
        "colab_type": "text"
      },
      "source": [
        "<a href=\"https://colab.research.google.com/github/sarthakmhalsekar18/Assignment-hackathon/blob/main/Project.ipynb\" target=\"_parent\"><img src=\"https://colab.research.google.com/assets/colab-badge.svg\" alt=\"Open In Colab\"/></a>"
      ]
    },
    {
      "cell_type": "markdown",
      "source": [
        "Mount Google Drive"
      ],
      "metadata": {
        "id": "nRZ9WJQbi4Ia"
      }
    },
    {
      "cell_type": "code",
      "source": [
        "from google.colab import drive\n",
        "import os\n",
        "if not os.path.exists('/content/drive'):\n",
        "  drive.mount('/content/drive')\n",
        "else:\n",
        "  print(\"Google Drive is already mounted at /content/drive\")"
      ],
      "metadata": {
        "colab": {
          "base_uri": "https://localhost:8080/"
        },
        "id": "lKY3-H5GkUFQ",
        "outputId": "d75f4603-a15d-4a28-ad9a-5635ddc0a470"
      },
      "execution_count": 1,
      "outputs": [
        {
          "output_type": "stream",
          "name": "stdout",
          "text": [
            "Mounted at /content/drive\n"
          ]
        }
      ]
    },
    {
      "cell_type": "markdown",
      "source": [
        "Import Libraries"
      ],
      "metadata": {
        "id": "iLoltuG2rHI2"
      }
    },
    {
      "cell_type": "code",
      "source": [
        "import os\n",
        "import numpy as np\n",
        "import pandas as pd\n",
        "import matplotlib.pyplot as plt\n",
        "from sklearn.model_selection import train_test_split\n",
        "import tensorflow as tf\n",
        "from tensorflow.keras.models import Sequential\n",
        "from tensorflow.keras.layers import Conv2D, MaxPooling2D, BatchNormalization, Flatten, Dense\n",
        "from tensorflow.keras.optimizers import Adam\n",
        "from tensorflow.keras.preprocessing.image import ImageDataGenerator"
      ],
      "metadata": {
        "id": "wFrFSB3jk0Gw"
      },
      "execution_count": 2,
      "outputs": []
    },
    {
      "cell_type": "markdown",
      "source": [
        "Federated Learning Setup"
      ],
      "metadata": {
        "id": "_3dTTc1XjFj7"
      }
    },
    {
      "cell_type": "code",
      "source": [
        "IMG_DIM=48\n",
        "CLASSES=['angry','disgust','fear','happy','sad','surprise']\n",
        "NUM_CLASSES=len(CLASSES)\n",
        "DATA_PATH='/content/drive/MyDrive/Datasets/sarthak dataset'"
      ],
      "metadata": {
        "id": "IF9DNUDUlRn2"
      },
      "execution_count": 3,
      "outputs": []
    },
    {
      "cell_type": "code",
      "source": [
        "NUM_CLIENTS=5\n",
        "CLIENT_EPOCHS=5\n",
        "NUM_ROUNDS=10\n",
        "BATCH_SIZE=32"
      ],
      "metadata": {
        "id": "-oJxQFhgpfGc"
      },
      "execution_count": 4,
      "outputs": []
    },
    {
      "cell_type": "markdown",
      "source": [
        "Load and Preprocess Dataset"
      ],
      "metadata": {
        "id": "a0Wl4jGojtMQ"
      }
    },
    {
      "cell_type": "code",
      "source": [
        "df=pd.concat([pd.DataFrame({\n",
        "    'filename':[os.path.join(DATA_PATH,'train',class_name,f)\n",
        "                for f in os.listdir(os.path.join(DATA_PATH,'train',class_name))\n",
        "                if f.endswith(('.jpg','.png'))],\n",
        "    'class':class_name\n",
        "})for class_name in CLASSES])\n",
        "print(df.head(2))"
      ],
      "metadata": {
        "colab": {
          "base_uri": "https://localhost:8080/"
        },
        "id": "UL3wspS5qZqm",
        "outputId": "ff9bfc1b-9dad-4fa0-86ba-91bbc753ccec"
      },
      "execution_count": 5,
      "outputs": [
        {
          "output_type": "stream",
          "name": "stdout",
          "text": [
            "                                            filename  class\n",
            "0  /content/drive/MyDrive/Datasets/sarthak datase...  angry\n",
            "1  /content/drive/MyDrive/Datasets/sarthak datase...  angry\n"
          ]
        }
      ]
    },
    {
      "cell_type": "code",
      "source": [
        "df_train,df_val=train_test_split(df,test_size=0.3,random_state=42)"
      ],
      "metadata": {
        "id": "JfCu7vJarekp"
      },
      "execution_count": 6,
      "outputs": []
    },
    {
      "cell_type": "code",
      "source": [
        "print(\"---Dataset Summary---\")\n",
        "print(f\"Total images:{len(df)}\")\n",
        "print(f\"Training images(70%):{len(df_train)}\")\n",
        "print(f\"Validation images30%):{len(df_val)}\")"
      ],
      "metadata": {
        "colab": {
          "base_uri": "https://localhost:8080/"
        },
        "id": "sYBmhPhBrfy-",
        "outputId": "5c21b7ba-0ffc-48cc-a5bd-dda03843b26c"
      },
      "execution_count": 7,
      "outputs": [
        {
          "output_type": "stream",
          "name": "stdout",
          "text": [
            "---Dataset Summary---\n",
            "Total images:23754\n",
            "Training images(70%):16627\n",
            "Validation images30%):7127\n"
          ]
        }
      ]
    },
    {
      "cell_type": "markdown",
      "source": [
        " Distribute Data to Clients"
      ],
      "metadata": {
        "id": "SKro31B1jx1B"
      }
    },
    {
      "cell_type": "code",
      "source": [
        "client_dfs = []\n",
        "remaining_df = df_train.copy()\n",
        "\n",
        "for i in range(NUM_CLIENTS):\n",
        "    client_share = len(df_train) // NUM_CLIENTS\n",
        "    if i == NUM_CLIENTS - 1:\n",
        "        client_df = remaining_df.copy()\n",
        "    else:\n",
        "        client_df, remaining_df = train_test_split(\n",
        "            remaining_df,\n",
        "            train_size=client_share,\n",
        "            stratify=remaining_df['class'],\n",
        "            random_state=42\n",
        "        )\n",
        "    client_dfs.append(client_df)\n",
        "    print(f\"\\nClient {i} received {len(client_df)} images:\")\n",
        "    print(client_df['class'].value_counts())"
      ],
      "metadata": {
        "id": "7qTOXNWabsdW",
        "outputId": "8fb4097d-ff8f-458f-9c12-157f64a77ed5",
        "colab": {
          "base_uri": "https://localhost:8080/"
        }
      },
      "execution_count": 8,
      "outputs": [
        {
          "output_type": "stream",
          "name": "stdout",
          "text": [
            "\n",
            "Client 0 received 3325 images:\n",
            "class\n",
            "happy       1004\n",
            "sad          672\n",
            "fear         577\n",
            "angry        562\n",
            "surprise     450\n",
            "disgust       60\n",
            "Name: count, dtype: int64\n",
            "\n",
            "Client 1 received 3325 images:\n",
            "class\n",
            "happy       1004\n",
            "sad          672\n",
            "fear         577\n",
            "angry        562\n",
            "surprise     450\n",
            "disgust       60\n",
            "Name: count, dtype: int64\n",
            "\n",
            "Client 2 received 3325 images:\n",
            "class\n",
            "happy       1004\n",
            "sad          671\n",
            "fear         577\n",
            "angry        562\n",
            "surprise     451\n",
            "disgust       60\n",
            "Name: count, dtype: int64\n",
            "\n",
            "Client 3 received 3325 images:\n",
            "class\n",
            "happy       1005\n",
            "sad          672\n",
            "fear         577\n",
            "angry        561\n",
            "surprise     450\n",
            "disgust       60\n",
            "Name: count, dtype: int64\n",
            "\n",
            "Client 4 received 3327 images:\n",
            "class\n",
            "happy       1005\n",
            "sad          672\n",
            "fear         578\n",
            "angry        562\n",
            "surprise     451\n",
            "disgust       59\n",
            "Name: count, dtype: int64\n"
          ]
        }
      ]
    },
    {
      "cell_type": "markdown",
      "source": [
        "Data Generators for Clients"
      ],
      "metadata": {
        "id": "d7KfEhKhj594"
      }
    },
    {
      "cell_type": "code",
      "source": [
        "train_clients={}\n",
        "for i, df in enumerate(client_dfs):\n",
        "    train_clients[f'client_{i}']=ImageDataGenerator(\n",
        "        rescale=1./255,\n",
        "        rotation_range=10,\n",
        "        width_shift_range=0.1,\n",
        "        height_shift_range=0.1,\n",
        "        horizontal_flip=True,\n",
        "        zoom_range=0.1\n",
        "    ).flow_from_dataframe(\n",
        "        dataframe=df,\n",
        "        x_col='filename',\n",
        "        y_col='class',\n",
        "        target_size=(IMG_DIM, IMG_DIM),\n",
        "        color_mode='grayscale',\n",
        "        class_mode='categorical',\n",
        "        batch_size=BATCH_SIZE,\n",
        "        classes=CLASSES,\n",
        "        shuffle=True\n",
        "    )"
      ],
      "metadata": {
        "id": "VwUF2KkcbxI0",
        "outputId": "5395d6dd-43c3-43e8-b81d-48477da5e00e",
        "colab": {
          "base_uri": "https://localhost:8080/"
        }
      },
      "execution_count": 9,
      "outputs": [
        {
          "output_type": "stream",
          "name": "stdout",
          "text": [
            "Found 3325 validated image filenames belonging to 6 classes.\n",
            "Found 3325 validated image filenames belonging to 6 classes.\n",
            "Found 3325 validated image filenames belonging to 6 classes.\n",
            "Found 3325 validated image filenames belonging to 6 classes.\n",
            "Found 3327 validated image filenames belonging to 6 classes.\n"
          ]
        }
      ]
    },
    {
      "cell_type": "markdown",
      "source": [
        "Validation Data Generator"
      ],
      "metadata": {
        "id": "-Gr8yB3Zj80C"
      }
    },
    {
      "cell_type": "code",
      "source": [
        "val_gen = ImageDataGenerator(rescale=1./255).flow_from_dataframe(\n",
        "    dataframe=df_val,\n",
        "    x_col='filename',\n",
        "    y_col='class',\n",
        "    target_size=(IMG_DIM, IMG_DIM),\n",
        "    color_mode='grayscale',\n",
        "    class_mode='categorical',\n",
        "    batch_size=BATCH_SIZE,\n",
        "    classes=CLASSES,\n",
        "    shuffle=False\n",
        ")\n",
        "print(f\"Training clients:{len(train_clients)}\")\n",
        "print(f\"Validation samples:{len(df_val)}\")"
      ],
      "metadata": {
        "id": "aTRDkDTpeCo9",
        "outputId": "140f9c9a-70b1-4dfc-99fa-6301d4bb542f",
        "colab": {
          "base_uri": "https://localhost:8080/"
        }
      },
      "execution_count": 11,
      "outputs": [
        {
          "output_type": "stream",
          "name": "stdout",
          "text": [
            "Found 7127 validated image filenames belonging to 6 classes.\n",
            "Training clients:5\n",
            "Validation samples:7127\n"
          ]
        }
      ]
    },
    {
      "cell_type": "markdown",
      "source": [
        "CNN MODEL"
      ],
      "metadata": {
        "id": "6Bil5KgIj-8R"
      }
    },
    {
      "cell_type": "code",
      "source": [
        "def create_model():\n",
        "    model = Sequential([\n",
        "        Conv2D(32, (3, 3), padding='same', input_shape=(IMG_DIM, IMG_DIM, 1), activation='relu'),\n",
        "        MaxPooling2D((2, 2)),\n",
        "        BatchNormalization(),\n",
        "        Conv2D(64, (3, 3), padding='same', activation='relu'),\n",
        "        MaxPooling2D((2, 2)),\n",
        "        BatchNormalization(),\n",
        "        Conv2D(64, (3, 3), padding='same', activation='relu'),\n",
        "        MaxPooling2D((2, 2)),\n",
        "        BatchNormalization(),\n",
        "        Conv2D(128, (3, 3), padding='same', activation='relu', name='last_conv'),\n",
        "        MaxPooling2D((2, 2)),\n",
        "        BatchNormalization(),\n",
        "        Flatten(),\n",
        "        Dense(128, activation='relu'),\n",
        "        Dense(NUM_CLASSES, activation='softmax')\n",
        "    ])\n",
        "    model.compile(optimizer=Adam(0.001), loss='categorical_crossentropy', metrics=['accuracy'])\n",
        "    return model\n",
        "\n",
        "model = create_model()"
      ],
      "metadata": {
        "colab": {
          "base_uri": "https://localhost:8080/"
        },
        "id": "o3Dx6EdIcp66",
        "outputId": "6e9836e1-7e14-4324-cefd-632cb8e07407"
      },
      "execution_count": 12,
      "outputs": [
        {
          "output_type": "stream",
          "name": "stderr",
          "text": [
            "/usr/local/lib/python3.11/dist-packages/keras/src/layers/convolutional/base_conv.py:107: UserWarning: Do not pass an `input_shape`/`input_dim` argument to a layer. When using Sequential models, prefer using an `Input(shape)` object as the first layer in the model instead.\n",
            "  super().__init__(activity_regularizer=activity_regularizer, **kwargs)\n"
          ]
        }
      ]
    },
    {
      "cell_type": "markdown",
      "source": [
        "Federated Training Loop"
      ],
      "metadata": {
        "id": "5xkEYt3bkGCg"
      }
    },
    {
      "cell_type": "code",
      "source": [
        "round_acc, round_loss = [], []\n",
        "global_weights = model.get_weights()\n",
        "\n",
        "for round in range(NUM_ROUNDS):\n",
        "    print(f\"\\n=== Round {round+1}/{NUM_ROUNDS} ===\")\n",
        "    client_weights = []\n",
        "\n",
        "    # Client updates\n",
        "    for client_name, gen in train_clients.items():\n",
        "        print(f\"\\nTraining {client_name}...\")\n",
        "        client_model = create_model()\n",
        "        client_model.set_weights(global_weights)\n",
        "        client_model.fit(gen, epochs=CLIENT_EPOCHS, verbose=1)\n",
        "        client_weights.append(client_model.get_weights())\n",
        "\n",
        "    # Federated averaging\n",
        "    global_weights = [np.mean([w[i] for w in client_weights], axis=0) for i in range(len(global_weights))]\n",
        "    model.set_weights(global_weights)\n",
        "\n",
        "    # Evaluation\n",
        "    val_loss, val_acc = model.evaluate(val_gen, verbose=0)\n",
        "    round_acc.append(val_acc)\n",
        "    round_loss.append(val_loss)\n",
        "    print(f\"\\n[Validation]Global Model - Accuracy: {val_acc:.4f}, Loss: {val_loss:.4f}\")"
      ],
      "metadata": {
        "id": "w1-F9oUVdFaq"
      },
      "execution_count": null,
      "outputs": []
    }
  ]
}