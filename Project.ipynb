{
  "nbformat": 4,
  "nbformat_minor": 0,
  "metadata": {
    "colab": {
      "provenance": [],
      "authorship_tag": "ABX9TyNdjPF7CQpU2e1RKK0tMKdV",
      "include_colab_link": true
    },
    "kernelspec": {
      "name": "python3",
      "display_name": "Python 3"
    },
    "language_info": {
      "name": "python"
    }
  },
  "cells": [
    {
      "cell_type": "markdown",
      "metadata": {
        "id": "view-in-github",
        "colab_type": "text"
      },
      "source": [
        "<a href=\"https://colab.research.google.com/github/sarthakmhalsekar18/Assignment-hackathon/blob/main/Project.ipynb\" target=\"_parent\"><img src=\"https://colab.research.google.com/assets/colab-badge.svg\" alt=\"Open In Colab\"/></a>"
      ]
    },
    {
      "cell_type": "code",
      "source": [
        "from google.colab import drive\n",
        "import os\n",
        "if not os.path.exists('/content/drive'):\n",
        "  drive.mount('/content/drive')\n",
        "else:\n",
        "  print(\"Google Drive is already mounted at /content/drive\")"
      ],
      "metadata": {
        "colab": {
          "base_uri": "https://localhost:8080/"
        },
        "id": "lKY3-H5GkUFQ",
        "outputId": "44fe885d-4131-4807-a143-1c3fa88ba3d6"
      },
      "execution_count": 1,
      "outputs": [
        {
          "output_type": "stream",
          "name": "stdout",
          "text": [
            "Mounted at /content/drive\n"
          ]
        }
      ]
    },
    {
      "cell_type": "markdown",
      "source": [
        "Library imported"
      ],
      "metadata": {
        "id": "iLoltuG2rHI2"
      }
    },
    {
      "cell_type": "code",
      "source": [
        "import os\n",
        "import numpy as np\n",
        "import pandas as pd\n",
        "import matplotlib.pyplot as plt\n",
        "from sklearn.model_selection import train_test_split\n",
        "import tensorflow as tf\n",
        "from tensorflow.keras.models import Sequential\n",
        "from tensorflow.keras.layers import Conv2D, MaxPooling2D, BatchNormalization, Flatten, Dense\n",
        "from tensorflow.keras.optimizers import Adam\n",
        "from tensorflow.keras.preprocessing.image import ImageDataGenerator"
      ],
      "metadata": {
        "id": "wFrFSB3jk0Gw"
      },
      "execution_count": 2,
      "outputs": []
    },
    {
      "cell_type": "code",
      "source": [
        "IMG_DIM=48\n",
        "CLASSES=['angry','disgust','fear','happy','sad','surprise']\n",
        "NUM_CLASSES=len(CLASSES)\n",
        "DATA_PATH='/content/drive/MyDrive/Datasets/sarthak dataset'"
      ],
      "metadata": {
        "id": "IF9DNUDUlRn2"
      },
      "execution_count": 3,
      "outputs": []
    },
    {
      "cell_type": "markdown",
      "source": [
        "Fedrated Learning"
      ],
      "metadata": {
        "id": "2KO0LmecrO0i"
      }
    },
    {
      "cell_type": "code",
      "source": [
        "NUM_CLIENTS=5\n",
        "CLIENT_EPOCHS=5\n",
        "NUM_ROUNDS=10\n",
        "BATCH_SIZE=32"
      ],
      "metadata": {
        "id": "-oJxQFhgpfGc"
      },
      "execution_count": 4,
      "outputs": []
    },
    {
      "cell_type": "code",
      "source": [
        "df=pd.concat([pd.DataFrame({\n",
        "    'filename':[os.path.join(DATA_PATH,'train',class_name,f)\n",
        "                for f in os.listdir(os.path.join(DATA_PATH,'train',class_name))\n",
        "                if f.endswith(('.jpg','.png'))],\n",
        "    'class':class_name\n",
        "})for class_name in CLASSES])\n",
        "print(df.head(2))"
      ],
      "metadata": {
        "colab": {
          "base_uri": "https://localhost:8080/"
        },
        "id": "UL3wspS5qZqm",
        "outputId": "82003418-668f-4427-e4f6-d85008fa19af"
      },
      "execution_count": 5,
      "outputs": [
        {
          "output_type": "stream",
          "name": "stdout",
          "text": [
            "                                            filename  class\n",
            "0  /content/drive/MyDrive/Datasets/sarthak datase...  angry\n",
            "1  /content/drive/MyDrive/Datasets/sarthak datase...  angry\n"
          ]
        }
      ]
    },
    {
      "cell_type": "code",
      "source": [
        "df_train,df_val=train_test_split(df,test_size=0.3,random_state=42)"
      ],
      "metadata": {
        "id": "JfCu7vJarekp"
      },
      "execution_count": 6,
      "outputs": []
    },
    {
      "cell_type": "code",
      "source": [
        "print(\"---Dataset Summary---\")\n",
        "print(f\"Total images:{len(df)}\")\n",
        "print(f\"Training images(70%):{len(df_train)}\")\n",
        "print(f\"Validation images30%):{len(df_val)}\")"
      ],
      "metadata": {
        "colab": {
          "base_uri": "https://localhost:8080/"
        },
        "id": "sYBmhPhBrfy-",
        "outputId": "3a443e59-f530-49af-ad86-9fcaee4df245"
      },
      "execution_count": 7,
      "outputs": [
        {
          "output_type": "stream",
          "name": "stdout",
          "text": [
            "---Dataset Summary---\n",
            "Total images:23754\n",
            "Training images(70%):16627\n",
            "Validation images30%):7127\n"
          ]
        }
      ]
    },
    {
      "cell_type": "code",
      "source": [
        "client_dfs = []\n",
        "remaining_df = df_train.copy()\n",
        "\n",
        "for i in range(NUM_CLIENTS):\n",
        "    client_share = len(df_train) // NUM_CLIENTS\n",
        "    if i == NUM_CLIENTS - 1:\n",
        "        client_df = remaining_df.copy()\n",
        "    else:\n",
        "        client_df, remaining_df = train_test_split(\n",
        "            remaining_df,\n",
        "            train_size=client_share,\n",
        "            stratify=remaining_df['class'],\n",
        "            random_state=42\n",
        "        )\n",
        "    client_dfs.append(client_df)\n",
        "    print(f\"\\nClient {i} received {len(client_df)} images:\")\n",
        "    print(client_df['class'].value_counts())"
      ],
      "metadata": {
        "id": "7qTOXNWabsdW",
        "outputId": "a4c19321-eb59-4e8d-aaa3-aa530257c1f4",
        "colab": {
          "base_uri": "https://localhost:8080/"
        }
      },
      "execution_count": 8,
      "outputs": [
        {
          "output_type": "stream",
          "name": "stdout",
          "text": [
            "\n",
            "Client 0 received 3325 images:\n",
            "class\n",
            "happy       1004\n",
            "sad          672\n",
            "fear         577\n",
            "angry        562\n",
            "surprise     450\n",
            "disgust       60\n",
            "Name: count, dtype: int64\n",
            "\n",
            "Client 1 received 3325 images:\n",
            "class\n",
            "happy       1004\n",
            "sad          672\n",
            "fear         577\n",
            "angry        562\n",
            "surprise     450\n",
            "disgust       60\n",
            "Name: count, dtype: int64\n",
            "\n",
            "Client 2 received 3325 images:\n",
            "class\n",
            "happy       1004\n",
            "sad          671\n",
            "fear         577\n",
            "angry        562\n",
            "surprise     451\n",
            "disgust       60\n",
            "Name: count, dtype: int64\n",
            "\n",
            "Client 3 received 3325 images:\n",
            "class\n",
            "happy       1005\n",
            "sad          672\n",
            "fear         577\n",
            "angry        561\n",
            "surprise     450\n",
            "disgust       60\n",
            "Name: count, dtype: int64\n",
            "\n",
            "Client 4 received 3327 images:\n",
            "class\n",
            "happy       1005\n",
            "sad          672\n",
            "fear         578\n",
            "angry        562\n",
            "surprise     451\n",
            "disgust       59\n",
            "Name: count, dtype: int64\n"
          ]
        }
      ]
    },
    {
      "cell_type": "code",
      "source": [
        "train_clients={}\n",
        "for i, df in enumerate(client_dfs):\n",
        "    train_clients[f'client_{i}']=ImageDataGenerator(\n",
        "        rescale=1./255,\n",
        "        rotation_range=10,\n",
        "        width_shift_range=0.1,\n",
        "        height_shift_range=0.1,\n",
        "        horizontal_flip=True,\n",
        "        zoom_range=0.1\n",
        "    ).flow_from_dataframe(\n",
        "        dataframe=df,\n",
        "        x_col='filename',\n",
        "        y_col='class',\n",
        "        target_size=(IMG_DIM, IMG_DIM),\n",
        "        color_mode='grayscale',\n",
        "        class_mode='categorical',\n",
        "        batch_size=BATCH_SIZE,\n",
        "        classes=CLASSES,\n",
        "        shuffle=True\n",
        "    )"
      ],
      "metadata": {
        "id": "VwUF2KkcbxI0",
        "outputId": "5de64d38-a5cd-4e36-df08-5e2fe9251d1e",
        "colab": {
          "base_uri": "https://localhost:8080/"
        }
      },
      "execution_count": 10,
      "outputs": [
        {
          "output_type": "stream",
          "name": "stdout",
          "text": [
            "Found 3325 validated image filenames belonging to 6 classes.\n",
            "Found 3325 validated image filenames belonging to 6 classes.\n",
            "Found 3325 validated image filenames belonging to 6 classes.\n",
            "Found 3325 validated image filenames belonging to 6 classes.\n",
            "Found 3327 validated image filenames belonging to 6 classes.\n"
          ]
        }
      ]
    },
    {
      "cell_type": "code",
      "source": [
        "val_gen = ImageDataGenerator(rescale=1./255).flow_from_dataframe(\n",
        "    dataframe=df_val,\n",
        "    x_col='filename',\n",
        "    y_col='class',\n",
        "    target_size=(IMG_DIM, IMG_DIM),\n",
        "    color_mode='grayscale',\n",
        "    class_mode='categorical',\n",
        "    batch_size=BATCH_SIZE,\n",
        "    classes=CLASSES,\n",
        "    shuffle=False\n",
        ")\n",
        "\n",
        "print(\"\\nData generators created successfully!\")\n",
        "print(f\"Training clients:{len(train_clients)}\")\n",
        "print(f\"Validation samples:{len(df_val)}\")"
      ],
      "metadata": {
        "id": "aTRDkDTpeCo9",
        "outputId": "bc464b2a-8c22-47c1-8867-d784930247ec",
        "colab": {
          "base_uri": "https://localhost:8080/"
        }
      },
      "execution_count": 11,
      "outputs": [
        {
          "output_type": "stream",
          "name": "stdout",
          "text": [
            "Found 7127 validated image filenames belonging to 6 classes.\n",
            "\n",
            "Data generators created successfully!\n",
            "Training clients:5\n",
            "Validation samples:7127\n"
          ]
        }
      ]
    }
  ]
}